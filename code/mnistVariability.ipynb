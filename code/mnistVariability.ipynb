{
 "cells": [
  {
   "cell_type": "code",
   "execution_count": 1,
   "metadata": {},
   "outputs": [],
   "source": [
    "import numpy as np\n",
    "import time\n",
    "import pandas as pd\n",
    "from sklearn.datasets import fetch_openml\n",
    "from sklearn.model_selection import train_test_split\n",
    "from sklearn.utils import shuffle\n",
    "import matplotlib.pyplot as plt"
   ]
  },
  {
   "cell_type": "code",
   "execution_count": 2,
   "metadata": {},
   "outputs": [
    {
     "name": "stdout",
     "output_type": "stream",
     "text": [
      "(70000, 784) (70000,)\n"
     ]
    }
   ],
   "source": [
    "#fetch the mnist dataset\n",
    "x, y = fetch_openml('mnist_784', version=1, return_X_y=True, as_frame=False)\n",
    "print(x.shape,y.shape)"
   ]
  },
  {
   "cell_type": "code",
   "execution_count": 3,
   "metadata": {},
   "outputs": [],
   "source": [
    "#x_n = x.to_numpy()\n",
    "x_n = x\n",
    "#y_n = y.to_numpy()\n",
    "y_n = y"
   ]
  },
  {
   "cell_type": "code",
   "execution_count": 4,
   "metadata": {},
   "outputs": [
    {
     "name": "stdout",
     "output_type": "stream",
     "text": [
      "(63000, 784) (7000, 784) (63000,) (7000,)\n",
      "(784, 63000) (784, 7000)\n"
     ]
    }
   ],
   "source": [
    "y_n = y_n.astype('int') #convert output to integers 0-9\n",
    "x_norm = x_n/255.0 #normalise input data\n",
    "x_train, x_val, y_train, y_val = train_test_split(x_norm, y_n, test_size=0.1, random_state=42) #split the data into train and validation\n",
    "print(x_train.shape, x_val.shape, y_train.shape, y_val.shape)\n",
    "\n",
    "x_train = x_train.T #take the transpose of the training data m*784 -> 784*m\n",
    "x_val = x_val.T #take the transpose of the test data m*784 -> 784*m\n",
    "print(x_train.shape, x_val.shape)"
   ]
  },
  {
   "cell_type": "code",
   "execution_count": 5,
   "metadata": {},
   "outputs": [],
   "source": [
    "def saveText(fPath, arr):\n",
    "    #dim1, dim2 = arr.shape\n",
    "    f = open(fPath, 'a')\n",
    "    np.savetxt(f, arr.flatten(), newline = ', ')\n",
    "    f.write(\"\\n\")\n",
    "    f.close()"
   ]
  },
  {
   "cell_type": "code",
   "execution_count": 6,
   "metadata": {},
   "outputs": [],
   "source": [
    "#have to change with different number of layers\n",
    "def params_init():\n",
    "\n",
    "  #np.random.seed(2)\n",
    "  W1 = np.random.rand(500,784) - 0.5\n",
    "  b1 = np.random.rand(500,1) - 0.5\n",
    "  W2 = np.random.rand(500,500) - 0.5\n",
    "  b2 = np.random.rand(500,1) - 0.5\n",
    "  W3 = np.random.rand(10,500) - 0.5 \n",
    "  b3 = np.random.rand(10,1) - 0.5\n",
    "  #W4 = np.random.rand(50,200) - 0.5   \n",
    "  #b4 = np.random.rand(50,1) - 0.5    \n",
    "  #W5 = np.random.rand(10,50) - 0.5  \n",
    "  #b5 = np.random.rand(10,1) - 0.5    \n",
    "  print(\"Params Initialised\")\n",
    "\n",
    "  return (W1, b1, W2, b2, W3, b3)\n",
    "\n",
    "\n",
    "#have to change with different number of layers\n",
    "def forward(x_train, W1, b1, W2, b2, W3, b3):\n",
    "  #print(\"Entered FP\")\n",
    "  Z1 = np.matmul(W1,x_train) + b1 #W1 is 50*784, x_train is 748*m, Z1 is 50*m\n",
    "  A1 = relu(Z1)\n",
    "\n",
    "  Z2 = np.matmul(W2,A1) + b2 \n",
    "  A2 = relu(Z2)\n",
    "\n",
    "  Z3 = np.matmul(W3,A2) + b3\n",
    "  A3 = softmax(Z3)\n",
    "  \n",
    "  #Z4 = np.matmul(W4,A3) + b4\n",
    "  #A4 = relu(Z4)\n",
    "\n",
    "  #Z5 = np.matmul(W5,A4) + b5\n",
    "  #A5 = softmax(Z5)\n",
    "\n",
    "  #W2 is 10*50, A1 is 50*m\n",
    "  # print(np.exp(Z2))\n",
    "  # print(np.sum(np.exp(Z2)))\n",
    "\n",
    "  #A2 is 10*m, final predictions\n",
    "  # print(\"Fp Done\")\n",
    "\n",
    "  return Z1, A1, Z2, A2, Z3, A3\n",
    "\n",
    "\n",
    "def relu(x):\n",
    "   return np.maximum(x,0)\n",
    "\n",
    "\n",
    "def softmax(Z):\n",
    "  return np.exp(Z) / np.sum(np.exp(Z),0)\n",
    "\n",
    "\n",
    "def relu_d(x):\n",
    "  return x>0\n",
    "\n",
    "\n",
    "def one_hot_encoding(y):\n",
    "  shape = (y.shape[0], 10)\n",
    "  one_hot = np.zeros(shape)\n",
    "  rows = np.arange(y.size)\n",
    "  one_hot[rows, y] = 1\n",
    "  return one_hot.T\n",
    "\n",
    "\n",
    "#have to change with different number of layers\n",
    "def backprop(Z1, A1, Z2, A2, Z3, A3, W1, W2, W3, X, y):\n",
    "  # print(\"Entered Backprop\")\n",
    "  m = y.shape[0] #m is the number of training examples\n",
    "  Y = one_hot_encoding(y)\n",
    "\n",
    "  dZ3 = (A3 - Y)\n",
    "  \n",
    "  dW3 = 1/m*np.matmul(dZ3,A2.T)\n",
    "\n",
    "  db3 = 1/m*np.sum(dZ3, axis=1)\n",
    "\n",
    "  dZ2 = np.matmul(W3.T, dZ3)*relu_d(Z2) #W2 is 10*50, dZ2 = 10*m, dZ1 = 50*m\n",
    "\n",
    "  dW2 = 1/m*np.matmul(dZ2,A1.T) #shape of dZ1 is 50*m, X is 784*m, dW1 = 50*784\n",
    "\n",
    "  db2 = 1/m*np.sum(dZ2, axis=1) #db1 is 50*1\n",
    "\n",
    "  dZ1 = np.matmul(W2.T, dZ2)*relu_d(Z1) #W2 is 10*50, dZ2 = 10*m, dZ1 = 50*m\n",
    "\n",
    "  dW1 = 1/m*np.matmul(dZ1,X.T) #shape of dZ1 is 50*m, X is 784*m, dW1 = 50*784\n",
    "\n",
    "  db1 = 1/m*np.sum(dZ1, axis = 1) #db1 is 50*1\n",
    "\n",
    "\n",
    "  return dW1, db1, dW2, db2, dW3, db3\n",
    "\n",
    "\n",
    "#have to change with different number of layers\n",
    "def param_update(W1, b1, W2, b2, W3, b3, dW1, db1, dW2, db2, dW3, db3, lr, factor=0):\n",
    "\n",
    "  #updates the parameters based on backpropogation\n",
    "\n",
    "  W1 = W1 - lr*dW1\n",
    "  b1 = b1 - lr*(db1.reshape(b1.shape))\n",
    "  W2 = W2 - lr*dW2\n",
    "  b2 = b2 - lr*(db2.reshape(b2.shape))\n",
    "  W3 = W3 - lr*dW3\n",
    "  b3 = b3 - lr*(db3.reshape(b3.shape))\n",
    "  #W4 = W4 - lr*dW4\n",
    "  #b4 = b4 - lr*db4\n",
    "\n",
    "  return W1, b1, W2, b2, W3, b3\n",
    "\n",
    "\n",
    "#have to change with different number of layers\n",
    "def batch_grad_descent(X,Y,iter, lr, print_op=1):\n",
    "\n",
    "  # print(\"Entered Grad Descent\")\n",
    "  #performs minibatch grad descent for given iterations and learning rate\n",
    "  train_acc = []\n",
    "  val_acc = []\n",
    "  sum_weights = []\n",
    "  train_loss = []\n",
    "  val_loss = []\n",
    "\n",
    "  mu = 1\n",
    "  sigma = 0.4\n",
    "\n",
    "  W1, b1, W2, b2, W3, b3 = params_init()\n",
    "  #print(W1)\n",
    "  #gaussian_W1, gaussian_b1, gaussian_W2, gaussian_b2, gaussian_W3, gaussian_b3, gaussian_W4, gaussian_b4, gaussian_W5, gaussian_b5 = Gaussian_init (mu, sigma)\n",
    "\n",
    "\n",
    "  for i in range(iter): #loop over \n",
    "    train_loss_score = 0\n",
    "    val_loss_score = 0\n",
    "\n",
    "\n",
    "    #storing the weights:\n",
    "    start = time.time()\n",
    "    basePath = \"D:\\\\perturbation_on_chip_learning\\\\Perturbation-techniques-in-CNNs\\\\weights\\\\\"\n",
    "    saveText(basePath+\"W1.txt\", W1)\n",
    "    saveText(basePath+\"W2.txt\", W2)\n",
    "    saveText(basePath+\"W3.txt\", W3)\n",
    "    saveText(basePath+\"b1.txt\", b1)\n",
    "    saveText(basePath+\"b2.txt\", b2)\n",
    "    saveText(basePath+\"b3.txt\", b3)\n",
    "    end = time.time()\n",
    "    print(\"###Saving weights : {time}\".format(time = end - start))\n",
    "\n",
    "\n",
    "    for j in range(100): #loop over batches\n",
    "      # print(\"Entered for loops in grad descent\")\n",
    "      #total training samples = 63000, batch size = 630\n",
    "      X1, Y1 = shuffle(X[:, j*630: (j+1)*630].T,Y[j*630: (j+1)*630]) #shuffle each batch\n",
    "      X1 = X1.T #take transpose to match the sizes\n",
    "\n",
    "      Z1, A1, Z2, A2, Z3, A3 = forward(X1, W1, b1, W2, b2, W3, b3) \n",
    "\n",
    "      dW1, db1, dW2, db2, dW3, db3 = backprop(Z1, A1, Z2, A2, Z3, A3, W1, W2, W3, X1, Y1)\n",
    "\n",
    "\n",
    "      W1, b1, W2, b2, W3, b3 = param_update(W1, b1, W2, b2, W3, b3, dW1, db1, dW2, db2, dW3, db3, lr = lr, factor = decay_factor)\n",
    "\n",
    "    if (i+1)%(print_op) == 0:\n",
    "      print(f'Iteration: {i + 1}')\n",
    "\n",
    "      #obtain training loss\n",
    "      _, _, _, _, _, A3_train = forward(X, W1, b1, W2, b2, W3, b3)\n",
    "      #for i in range(0, Y.shape[0]):\n",
    "       # train_loss_score = train_loss_score + (-1*(np.log(A5_train[Y[i], i])))\n",
    "      #train_loss.append(train_loss_score)\n",
    "      #print(f'Train Loss: {train_loss_score}')\n",
    "\n",
    "      #obtain training accuracy\n",
    "      train_score = accuracy(predictions(A3_train), Y)\n",
    "      train_acc.append(train_score)\n",
    "      print(f'Train accuracy: {train_score}')\n",
    "\n",
    "      ##obtain validation loss\n",
    "      _, _, _, _, _,  A3_val = forward(x_val, W1, b1, W2, b2, W3, b3)\n",
    "      #for i in range(0, y_val.shape[0]):\n",
    "       # val_loss_score = val_loss_score + (-1*(np.log(A5_val[y_val[i], i]))) \n",
    "      #val_loss.append(val_loss_score)\n",
    "      #print(f'Validation Loss: {val_loss_score}')\n",
    "\n",
    "      ##obtain validation accuracy\n",
    "      val_score = accuracy(predictions(A3_val), y_val)\n",
    "      val_acc.append(val_score)\n",
    "      print(f'Val accuracy: {val_score}')\n",
    "\n",
    "      #obtain the sum of weights and append to the sum array\n",
    "      #sum_w = np.sum(abs(W1)) + np.sum(abs(W2)) + np.sum(abs(W3)) + np.sum(abs(W4)) + np.sum(abs(W5)) + np.sum(abs(b1)) + np.sum(abs(b2)) + np.sum(abs(b3))  + np.sum(abs(b4)) + np.sum(abs(b5))\n",
    "      #sum_weights.append(sum_w)\n",
    "      #print(f'Sum of weights: {sum_w}')\n",
    "\n",
    "  return W1, b1, W2, b2, W3, b3, train_acc, val_acc, train_loss, val_loss, sum_weights\n",
    "\n",
    "\n",
    "\n",
    "\n",
    "def grad_descent(X,Y,iter, lr, print_op, decay_factor=0):\n",
    "\n",
    "  # print(\"Entered Grad Descent\")\n",
    "  #performs minibatch grad descent for given iterations and learning rate\n",
    "  train_acc = []\n",
    "  val_acc = []\n",
    "  sum_weights = []\n",
    "  train_loss = []\n",
    "  val_loss = []\n",
    "\n",
    "  mu = 1\n",
    "  sigma = 0.4\n",
    "\n",
    "  W1, b1, W2, b2, W3, b3 = params_init()\n",
    "  #print(W1)\n",
    "  #gaussian_W1, gaussian_b1, gaussian_W2, gaussian_b2, gaussian_W3, gaussian_b3, gaussian_W4, gaussian_b4, gaussian_W5, gaussian_b5 = Gaussian_init (mu, sigma)\n",
    "\n",
    "\n",
    "  for i in range(iter): #loop over \n",
    "    train_loss_score = 0\n",
    "    val_loss_score = 0\n",
    "    X1, Y1 = X.T, Y\n",
    "    X1 = X1.T #take transpose to match the sizes\n",
    "\n",
    "    Z1, A1, Z2, A2, Z3, A3 = forward(X1, W1, b1, W2, b2, W3, b3) \n",
    "\n",
    "    dW1, db1, dW2, db2, dW3, db3 = backprop(Z1, A1, Z2, A2, Z3, A3, W1, W2, W3, X1, Y1)\n",
    "\n",
    "    W1, b1, W2, b2, W3, b3 = param_update(W1, b1, W2, b2, W3, b3, dW1, db1, dW2, db2, dW3, db3, lr = lr, factor = decay_factor)\n",
    "\n",
    "    if (i+1)%(print_op) == 0:\n",
    "      print(f'Iteration: {i + 1}')\n",
    "\n",
    "      #obtain training loss\n",
    "      _, _, _, _, _, A3_train = forward(X, W1, b1, W2, b2, W3, b3)\n",
    "      #for i in range(0, Y.shape[0]):\n",
    "       # train_loss_score = train_loss_score + (-1*(np.log(A5_train[Y[i], i])))\n",
    "      #train_loss.append(train_loss_score)\n",
    "      #print(f'Train Loss: {train_loss_score}')\n",
    "\n",
    "      #obtain training accuracy\n",
    "      train_score = accuracy(predictions(A3_train), Y)\n",
    "      train_acc.append(train_score)\n",
    "      print(f'Train accuracy: {train_score}')\n",
    "\n",
    "      ##obtain validation loss\n",
    "      _, _, _, _, _,  A3_val = forward(x_val, W1, b1, W2, b2, W3, b3)\n",
    "      #for i in range(0, y_val.shape[0]):\n",
    "       # val_loss_score = val_loss_score + (-1*(np.log(A5_val[y_val[i], i]))) \n",
    "      #val_loss.append(val_loss_score)\n",
    "      #print(f'Validation Loss: {val_loss_score}')\n",
    "\n",
    "      ##obtain validation accuracy\n",
    "      val_score = accuracy(predictions(A3_val), y_val)\n",
    "      val_acc.append(val_score)\n",
    "      print(f'Val accuracy: {val_score}')\n",
    "\n",
    "      #obtain the sum of weights and append to the sum array\n",
    "      #sum_w = np.sum(abs(W1)) + np.sum(abs(W2)) + np.sum(abs(W3)) + np.sum(abs(W4)) + np.sum(abs(W5)) + np.sum(abs(b1)) + np.sum(abs(b2)) + np.sum(abs(b3))  + np.sum(abs(b4)) + np.sum(abs(b5))\n",
    "      #sum_weights.append(sum_w)\n",
    "      #print(f'Sum of weights: {sum_w}')\n",
    "\n",
    "  return W1, b1, W2, b2, W3, b3, train_acc, val_acc, train_loss, val_loss, sum_weights\n",
    "\n",
    "\n",
    "def predictions(A):\n",
    "  #argmax returns the index of maximum value, we will feed the sigmoid output to this function \n",
    "  return np.argmax(A,0)\n",
    "\n",
    "\n",
    "def accuracy(A,Y):\n",
    "  #this will compare the predicted output to the ground truth\n",
    "  return np.sum(A == Y)/Y.shape[0]*100\n"
   ]
  },
  {
   "cell_type": "code",
   "execution_count": 82,
   "metadata": {},
   "outputs": [],
   "source": [
    "epochsToTrain = 100 #please update the rest of the functions with this since I have hardcoded them for now"
   ]
  },
  {
   "cell_type": "code",
   "execution_count": 63,
   "metadata": {},
   "outputs": [],
   "source": [
    "answerToTrain = input(\"Do you want to train the model again? : \")\n",
    "if answerToTrain.strip().lower()=='yes':\n",
    "    W1, b1, W2, b2, W3, b3, train_acc, val_acc, train_loss, val_loss, sum_weights = batch_grad_descent(x_train,y_train,epochsToTrain, 0.01,1)"
   ]
  },
  {
   "cell_type": "code",
   "execution_count": 8,
   "metadata": {},
   "outputs": [],
   "source": [
    "def loadFromLine(line, shape):\n",
    "    #line = \"xx, xxx, x,....., \"\n",
    "    lineElements = np.array([float(x) for x in line.split(\", \")[:-1]]).reshape(shape)\n",
    "    return lineElements"
   ]
  },
  {
   "cell_type": "code",
   "execution_count": 9,
   "metadata": {},
   "outputs": [],
   "source": [
    "def getVth(mu, sigma, shape):\n",
    "  #last dimension represents the binary rep for each weight\n",
    "  return np.random.normal(loc=mu, scale=sigma, size=shape) #each bit is represented by an sram so we need those many vth values for each mosfet in this set"
   ]
  },
  {
   "cell_type": "code",
   "execution_count": 124,
   "metadata": {},
   "outputs": [],
   "source": [
    "def weightTransformWithVariability(weightArray, mu, sigma, vDD, precision, step, discreteSteps):\n",
    "  dim1, dim2 = weightArray.shape\n",
    "  sizeI = (dim1, dim2, precision)\n",
    "\n",
    "  clippedWeightIndexArray = np.digitize(np.abs(weightArray), discreteSteps) #finds the index value of the weights\n",
    "\n",
    "  #vDD = 5\n",
    "  #mu = 0.7#mean of the distribution\n",
    "  #sigma = 0.00001\n",
    "  #! work with sigma/mu\n",
    "  Vth = getVth(mu, sigma, sizeI)#get the array of Vth values \n",
    "\n",
    "  iOn = ((vDD - Vth)**2)*1e-06#scaling the current according to Ioff values arbitraryfor now!!\n",
    "\n",
    "  \n",
    "  iOnNominal = 1e-06*(vDD**2 - (2*vDD*mu) + (sigma**2  + mu**2))\n",
    "\n",
    "  \n",
    "  iOff = np.random.uniform(low=0, high=1e-10, size = sizeI)#no negative value\n",
    "\n",
    "  \n",
    "  analogWeightArray = np.zeros_like(weightArray, dtype=float)\n",
    "\n",
    "  for bitLevel in range(precision):\n",
    "    analogWeightArray += np.sign(weightArray) * np.where(np.bitwise_and(clippedWeightIndexArray, 2**bitLevel)>=1, iOn[:, :, bitLevel], iOff[:, :, bitLevel]) * (2**bitLevel)\n",
    "\n",
    "\n",
    "\n",
    "  weightWithVariability = (analogWeightArray/iOnNominal)*step\n",
    "  return weightWithVariability"
   ]
  },
  {
   "cell_type": "code",
   "execution_count": 125,
   "metadata": {},
   "outputs": [],
   "source": [
    "#defines the printing function for progress bar etc\n",
    "import sys\n",
    "def show(j,  count, size=60, prefix = \"\", out=sys.stdout):\n",
    "        x = int(size*j/count)\n",
    "        print(\"{}[{}{}] {}/{}\".format(prefix, u\"█\"*x, \".\"*(size-x), j, count), end='\\r', file=out, flush=True)"
   ]
  },
  {
   "cell_type": "code",
   "execution_count": 126,
   "metadata": {},
   "outputs": [],
   "source": [
    "def readWriteTransform(readPath, writePath, shape, precision, step, discreteSteps, epochsToTrain, mu, sigma, vDD):\n",
    "    #basePath = \"D:\\\\perturbation_on_chip_learning\\\\Perturbation-techniques-in-CNNs\\\\weights\\\\\"\n",
    "    fileOpen = open(readPath, 'r')\n",
    "    iter = 1\n",
    "    for line in fileOpen:\n",
    "        start = time.time()\n",
    "        saveText(writePath, weightTransformWithVariability(loadFromLine(line, shape), mu, sigma, vDD, precision, step, discreteSteps))\n",
    "        end = time.time()\n",
    "        #print(\"#Finished reading and transforming Line {lineNo} with Time taken = {tTime}\".format(lineNo = iter, tTime = end-start))\n",
    "        show(iter, epochsToTrain, 100, \"Processed Line {lineNo} & Time taken = {tTime}\".format(lineNo = iter, tTime = round(end-start,2)))\n",
    "        iter += 1\n",
    "        \n",
    "    fileOpen.close()\n",
    "    print(\"##Fin.##\")"
   ]
  },
  {
   "cell_type": "markdown",
   "metadata": {},
   "source": [
    "# Setting up the variability conditions"
   ]
  },
  {
   "cell_type": "code",
   "execution_count": 32,
   "metadata": {},
   "outputs": [],
   "source": [
    "precision = 10#setting the precision value of the calculations"
   ]
  },
  {
   "cell_type": "code",
   "execution_count": 33,
   "metadata": {},
   "outputs": [],
   "source": [
    "wRange = 3"
   ]
  },
  {
   "cell_type": "code",
   "execution_count": 34,
   "metadata": {},
   "outputs": [],
   "source": [
    "noOfLevels = 2**precision - 1 #no of levels of quantization"
   ]
  },
  {
   "cell_type": "code",
   "execution_count": 35,
   "metadata": {},
   "outputs": [],
   "source": [
    "step = round(wRange/noOfLevels, precision) #step size of each of the step after quantization"
   ]
  },
  {
   "cell_type": "code",
   "execution_count": 36,
   "metadata": {},
   "outputs": [],
   "source": [
    "discreteSteps = [round(step*i, precision) for i in range(0, noOfLevels)] #storing the values of the steps"
   ]
  },
  {
   "cell_type": "markdown",
   "metadata": {},
   "source": [
    "## Clearing out the variability transformed weights text files for storing the new transformed weights"
   ]
  },
  {
   "cell_type": "code",
   "execution_count": 139,
   "metadata": {},
   "outputs": [
    {
     "name": "stdout",
     "output_type": "stream",
     "text": [
      "Variability transformed weights HAVE been cleared!!\n"
     ]
    }
   ],
   "source": [
    "answer = input(\"Your response to clear variability transformed weight text files : \")\n",
    "if answer.lower().strip()=='yes':\n",
    "    basePath = \"D:\\\\perturbation_on_chip_learning\\\\Perturbation-techniques-in-CNNs\\\\weights\\\\\"\n",
    "    fileToClear = open(basePath+\"W1var.txt\", \"w\")\n",
    "    fileToClear.write(\"\")\n",
    "    fileToClear.close()\n",
    "    fileToClear = open(basePath+\"W2var.txt\", \"w\")\n",
    "    fileToClear.write(\"\")\n",
    "    fileToClear.close()\n",
    "    fileToClear = open(basePath+\"W3var.txt\", \"w\")\n",
    "    fileToClear.write(\"\")\n",
    "    fileToClear.close()\n",
    "    fileToClear = open(basePath+\"b1var.txt\", \"w\")\n",
    "    fileToClear.write(\"\")\n",
    "    fileToClear.close()\n",
    "    fileToClear = open(basePath+\"b2var.txt\", \"w\")\n",
    "    fileToClear.write(\"\")\n",
    "    fileToClear.close()\n",
    "    fileToClear = open(basePath+\"b3var.txt\", \"w\")\n",
    "    fileToClear.write(\"\")\n",
    "    fileToClear.close()\n",
    "    print(\"Variability transformed weights HAVE been cleared!!\")\n",
    "else:\n",
    "    print(\"Variability transformed weights have NOT been cleared. You can use those weights!!\")"
   ]
  },
  {
   "cell_type": "markdown",
   "metadata": {},
   "source": [
    "## Storing the variability transformed weights in the appropriate text files"
   ]
  },
  {
   "cell_type": "code",
   "execution_count": 140,
   "metadata": {},
   "outputs": [],
   "source": [
    "mu, sigma, vDD = 0.7, 0.1, 5"
   ]
  },
  {
   "cell_type": "code",
   "execution_count": 141,
   "metadata": {},
   "outputs": [
    {
     "name": "stdout",
     "output_type": "stream",
     "text": [
      "##Fin.##d Line 100 & Time taken = 1.44[████████████████████████████████████████████████████████████████████████████████████████████████████] 100/100\n"
     ]
    }
   ],
   "source": [
    "basePath = \"D:\\\\perturbation_on_chip_learning\\\\Perturbation-techniques-in-CNNs\\\\weights\\\\\"\n",
    "readWriteTransform(basePath+\"W1.txt\", basePath+\"W1var.txt\", (500, 784), precision, step, discreteSteps, epochsToTrain,mu, sigma, vDD)"
   ]
  },
  {
   "cell_type": "code",
   "execution_count": 142,
   "metadata": {},
   "outputs": [
    {
     "name": "stdout",
     "output_type": "stream",
     "text": [
      "##Fin.##d Line 100 & Time taken = 0.0[████████████████████████████████████████████████████████████████████████████████████████████████████] 100/100\n"
     ]
    }
   ],
   "source": [
    "basePath = \"D:\\\\perturbation_on_chip_learning\\\\Perturbation-techniques-in-CNNs\\\\weights\\\\\"\n",
    "readWriteTransform(basePath+\"b1.txt\", basePath+\"b1var.txt\", (500, 1), precision, step, discreteSteps, epochsToTrain,mu, sigma, vDD)"
   ]
  },
  {
   "cell_type": "code",
   "execution_count": 143,
   "metadata": {},
   "outputs": [
    {
     "name": "stdout",
     "output_type": "stream",
     "text": [
      "##Fin.##d Line 100 & Time taken = 0.94[████████████████████████████████████████████████████████████████████████████████████████████████████] 100/100\n"
     ]
    }
   ],
   "source": [
    "basePath = \"D:\\\\perturbation_on_chip_learning\\\\Perturbation-techniques-in-CNNs\\\\weights\\\\\"\n",
    "readWriteTransform(basePath+\"W2.txt\", basePath+\"W2var.txt\", (500, 500), precision, step, discreteSteps, epochsToTrain,mu, sigma, vDD)"
   ]
  },
  {
   "cell_type": "code",
   "execution_count": 144,
   "metadata": {},
   "outputs": [
    {
     "name": "stdout",
     "output_type": "stream",
     "text": [
      "##Fin.##d Line 100 & Time taken = 0.0[████████████████████████████████████████████████████████████████████████████████████████████████████] 100/100\n"
     ]
    }
   ],
   "source": [
    "basePath = \"D:\\\\perturbation_on_chip_learning\\\\Perturbation-techniques-in-CNNs\\\\weights\\\\\"\n",
    "readWriteTransform(basePath+\"b2.txt\", basePath+\"b2var.txt\", (500, 1), precision, step, discreteSteps, epochsToTrain,mu, sigma, vDD)"
   ]
  },
  {
   "cell_type": "code",
   "execution_count": 145,
   "metadata": {},
   "outputs": [
    {
     "name": "stdout",
     "output_type": "stream",
     "text": [
      "##Fin.##d Line 100 & Time taken = 0.02[████████████████████████████████████████████████████████████████████████████████████████████████████] 100/100\n"
     ]
    }
   ],
   "source": [
    "basePath = \"D:\\\\perturbation_on_chip_learning\\\\Perturbation-techniques-in-CNNs\\\\weights\\\\\"\n",
    "readWriteTransform(basePath+\"W3.txt\", basePath+\"W3var.txt\", (10, 500), precision, step, discreteSteps, epochsToTrain,mu, sigma, vDD)"
   ]
  },
  {
   "cell_type": "code",
   "execution_count": 146,
   "metadata": {},
   "outputs": [
    {
     "name": "stdout",
     "output_type": "stream",
     "text": [
      "##Fin.##d Line 100 & Time taken = 0.0[████████████████████████████████████████████████████████████████████████████████████████████████████] 100/100\n"
     ]
    }
   ],
   "source": [
    "basePath = \"D:\\\\perturbation_on_chip_learning\\\\Perturbation-techniques-in-CNNs\\\\weights\\\\\"\n",
    "readWriteTransform(basePath+\"b3.txt\", basePath+\"b3var.txt\", (10, 1), precision, step, discreteSteps, epochsToTrain,mu, sigma, vDD)"
   ]
  },
  {
   "cell_type": "markdown",
   "metadata": {},
   "source": [
    "# On-chip Inference"
   ]
  },
  {
   "cell_type": "code",
   "execution_count": 147,
   "metadata": {},
   "outputs": [
    {
     "name": "stdout",
     "output_type": "stream",
     "text": [
      "Iteration 100  Train accuracy: 98.18095238095238  Val accuracy: 93.61428571428571\r"
     ]
    }
   ],
   "source": [
    "basePath = \"D:\\\\perturbation_on_chip_learning\\\\Perturbation-techniques-in-CNNs\\\\weights\\\\\"\n",
    "fileW1var = open(basePath+\"W1var.txt\", 'r')\n",
    "fileb1var = open(basePath+\"b1var.txt\", 'r')\n",
    "fileW2var = open(basePath+\"W2var.txt\", 'r')\n",
    "fileb2var = open(basePath+\"b2var.txt\", 'r')\n",
    "fileW3var = open(basePath+\"W3var.txt\", 'r')\n",
    "fileb3var = open(basePath+\"b3var.txt\", 'r')\n",
    "trainAccOnChip = []\n",
    "valAccOnChip = []\n",
    "iter = 1\n",
    "X, Y = x_train,y_train\n",
    "for line in zip(fileW1var, fileb1var, fileW2var, fileb2var, fileW3var, fileb3var):\n",
    "    W1, b1, W2, b2, W3, b3 = line\n",
    "    W1 = loadFromLine(W1, (500, 784))\n",
    "    b1 = loadFromLine(b1, (500,1))\n",
    "    W2 = loadFromLine(W2, (500, 500))\n",
    "    b2 = loadFromLine(b2, (500,1))\n",
    "    W3 = loadFromLine(W3, (10, 500))\n",
    "    b3 = loadFromLine(b3, (10, 1))\n",
    "    #obtain training loss\n",
    "    #print(\"Iteration {no}\".format(no = iter))\n",
    "    _, _, _, _, _, A3_train = forward(X, W1, b1, W2, b2, W3, b3)\n",
    "    #for i in range(0, Y.shape[0]):\n",
    "    # train_loss_score = train_loss_score + (-1*(np.log(A5_train[Y[i], i])))\n",
    "    #train_loss.append(train_loss_score)\n",
    "    #print(f'Train Loss: {train_loss_score}')\n",
    "\n",
    "    #obtain training accuracy\n",
    "    trainScore = accuracy(predictions(A3_train), Y)\n",
    "    trainAccOnChip.append(trainScore)\n",
    "    #print(f'Train accuracy: {trainScore}')\n",
    "\n",
    "    ##obtain validation loss\n",
    "    _, _, _, _, _,  A3_val = forward(x_val, W1, b1, W2, b2, W3, b3)\n",
    "    #for i in range(0, y_val.shape[0]):\n",
    "    # val_loss_score = val_loss_score + (-1*(np.log(A5_val[y_val[i], i]))) \n",
    "    #val_loss.append(val_loss_score)\n",
    "    #print(f'Validation Loss: {val_loss_score}')\n",
    "\n",
    "    ##obtain validation accuracy\n",
    "    val_score = accuracy(predictions(A3_val), y_val)\n",
    "    valAccOnChip.append(val_score)\n",
    "    #print(f'Val accuracy: {val_score}')\n",
    "    print(f\"Iteration {iter}  Train accuracy: {trainScore}  Val accuracy: {val_score}\",  end='\\r', flush=True)\n",
    "    iter +=1\n",
    "fileW1var.close()\n",
    "fileb1var.close()\n",
    "fileW2var.close()\n",
    "fileb2var.close()\n",
    "fileW3var.close()\n",
    "fileb3var.close()"
   ]
  },
  {
   "cell_type": "code",
   "execution_count": 148,
   "metadata": {},
   "outputs": [
    {
     "data": {
      "text/plain": [
       "<matplotlib.legend.Legend at 0x1cf42253340>"
      ]
     },
     "execution_count": 148,
     "metadata": {},
     "output_type": "execute_result"
    },
    {
     "data": {
      "image/png": "[encoded data removed]",
      "text/plain": [
       "<Figure size 864x576 with 1 Axes>"
      ]
     },
     "metadata": {
      "needs_background": "light"
     },
     "output_type": "display_data"
    }
   ],
   "source": [
    "plt.figure(figsize=(12, 8))\n",
    "plt.plot(train_acc, 'rx')\n",
    "plt.plot(trainAccOnChip, 'bo')\n",
    "plt.legend([\"Training accuracy (software)\", \"Training accuracy (on chip)\"])"
   ]
  },
  {
   "cell_type": "code",
   "execution_count": null,
   "metadata": {},
   "outputs": [],
   "source": []
  }
 ],
 "metadata": {
  "kernelspec": {
   "display_name": "Python 3.10.5 64-bit",
   "language": "python",
   "name": "python3"
  },
  "language_info": {
   "codemirror_mode": {
    "name": "ipython",
    "version": 3
   },
   "file_extension": ".py",
   "mimetype": "text/x-python",
   "name": "python",
   "nbconvert_exporter": "python",
   "pygments_lexer": "ipython3",
   "version": "3.10.5"
  },
  "orig_nbformat": 4,
  "vscode": {
   "interpreter": {
    "hash": "26de051ba29f2982a8de78e945f0abaf191376122a1563185a90213a26c5da77"
   }
  }
 },
 "nbformat": 4,
 "nbformat_minor": 2
}
