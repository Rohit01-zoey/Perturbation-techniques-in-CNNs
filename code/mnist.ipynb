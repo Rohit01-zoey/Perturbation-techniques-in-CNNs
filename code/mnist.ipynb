{
 "cells": [
  {
   "cell_type": "markdown",
   "metadata": {},
   "source": [
    "# Running standard bp on mnist "
   ]
  },
  {
   "cell_type": "markdown",
   "metadata": {},
   "source": [
    "## Refer to this site - https://mlfromscratch.com/neural-network-tutorial/#/"
   ]
  },
  {
   "cell_type": "markdown",
   "metadata": {},
   "source": [
    "# ALso this site : https://jonathanweisberg.org/post/A%20Neural%20Network%20from%20Scratch%20-%20Part%201/"
   ]
  },
  {
   "cell_type": "code",
   "execution_count": 3,
   "metadata": {},
   "outputs": [
    {
     "name": "stderr",
     "output_type": "stream",
     "text": [
      "Using TensorFlow backend.\n",
      "c:\\Users\\Rohit\\Anaconda3\\lib\\site-packages\\requests\\__init__.py:91: RequestsDependencyWarning: urllib3 (1.26.9) or chardet (3.0.4) doesn't match a supported version!\n",
      "  RequestsDependencyWarning)\n"
     ]
    }
   ],
   "source": [
    "from sklearn.datasets import fetch_openml\n",
    "from keras.utils.np_utils import to_categorical\n",
    "import numpy as np\n",
    "from sklearn.model_selection import train_test_split\n",
    "import time\n",
    "\n",
    "x, y = fetch_openml('mnist_784', version=1, return_X_y=True)\n",
    "x = (x/255).astype('float32')\n",
    "y = to_categorical(y)\n",
    "\n",
    "x_train, x_val, y_train, y_val = train_test_split(x, y, test_size=0.15, random_state=42)"
   ]
  },
  {
   "cell_type": "code",
   "execution_count": 4,
   "metadata": {},
   "outputs": [],
   "source": [
    "class DeepNeuralNetwork():\n",
    "    def __init__(self, sizes, epochs=10, l_rate=0.001):\n",
    "        self.sizes = sizes\n",
    "        self.epochs = epochs\n",
    "        self.l_rate = l_rate\n",
    "        self.accuracy_over_epochs = []\n",
    "\n",
    "        # we save all parameters in the neural network in this dictionary\n",
    "        self.params = self.initialization()\n",
    "\n",
    "    def sigmoid(self, x, derivative=False):\n",
    "        if derivative:\n",
    "            return (np.exp(-x))/((np.exp(-x)+1)**2)\n",
    "        return 1/(1 + np.exp(-x))\n",
    "\n",
    "    def softmax(self, x, derivative=False):\n",
    "        # Numerically stable with large exponentials\n",
    "        exps = np.exp(x - x.max())\n",
    "        if derivative:\n",
    "            return exps / np.sum(exps, axis=0) * (1 - exps / np.sum(exps, axis=0))\n",
    "        return exps / np.sum(exps, axis=0)\n",
    "\n",
    "    def initialization(self):\n",
    "        # number of nodes in each layer\n",
    "        input_layer=self.sizes[0]\n",
    "        hidden_1=self.sizes[1]\n",
    "        hidden_2=self.sizes[2]\n",
    "        output_layer=self.sizes[3]\n",
    "\n",
    "        params = {\n",
    "            'W1':np.random.randn(hidden_1, input_layer) * np.sqrt(1. / hidden_1),\n",
    "            'W2':np.random.randn(hidden_2, hidden_1) * np.sqrt(1. / hidden_2),\n",
    "            'W3':np.random.randn(output_layer, hidden_2) * np.sqrt(1. / output_layer)\n",
    "        }\n",
    "\n",
    "        return params\n",
    "\n",
    "    def forward_pass(self, x_train):\n",
    "        params = self.params\n",
    "        #print(params)\n",
    "\n",
    "        # input layer activations becomes sample\n",
    "        params['A0'] = x_train\n",
    "\n",
    "        # input layer to hidden layer 1\n",
    "        params['Z1'] = np.dot(params[\"W1\"], params['A0'])\n",
    "        params['A1'] = self.sigmoid(params['Z1'])\n",
    "\n",
    "        # hidden layer 1 to hidden layer 2\n",
    "        params['Z2'] = np.dot(params[\"W2\"], params['A1'])\n",
    "        params['A2'] = self.sigmoid(params['Z2'])\n",
    "\n",
    "        # hidden layer 2 to output layer\n",
    "        params['Z3'] = np.dot(params[\"W3\"], params['A2'])\n",
    "        params['A3'] = self.softmax(params['Z3'])\n",
    "\n",
    "        return params['A3']\n",
    "\n",
    "    def backward_pass(self, y_train, output):\n",
    "        '''\n",
    "            This is the backpropagation algorithm, for calculating the updates\n",
    "            of the neural network's parameters.\n",
    "\n",
    "            Note: There is a stability issue that causes warnings. This is \n",
    "                  caused  by the dot and multiply operations on the huge arrays.\n",
    "                  \n",
    "                  RuntimeWarning: invalid value encountered in true_divide\n",
    "                  RuntimeWarning: overflow encountered in exp\n",
    "                  RuntimeWarning: overflow encountered in square\n",
    "        '''\n",
    "        params = self.params\n",
    "        change_w = {}\n",
    "\n",
    "        training_samples = y_train.shape[1]\n",
    "        #print(training_samples)\n",
    "        # Calculate W3 update\n",
    "        error = 2 * (output - y_train) / output.shape[0] * self.softmax(params['Z3'], derivative=True)\n",
    "        #change_w['W3'] = np.outer(error, params['A2'])#we use np.outer since we have only training sample!\n",
    "        change_w['W3'] = np.matmul(error, params['A2'].T)\n",
    "\n",
    "        # Calculate W2 update\n",
    "        error = np.dot(params['W3'].T, error) * self.sigmoid(params['Z2'], derivative=True)\n",
    "        #change_w['W2'] = np.outer(error, params['A1'])\n",
    "        change_w['W2'] = np.matmul(error, params['A1'].T)\n",
    "\n",
    "        # Calculate W1 update\n",
    "        error = np.dot(params['W2'].T, error) * self.sigmoid(params['Z1'], derivative=True)\n",
    "        #change_w['W1'] = np.outer(error, params['A0'])\n",
    "        change_w['W1'] = np.matmul(error, params['A0'].T)\n",
    "\n",
    "        #print(change_w['W2'])\n",
    "\n",
    "        return change_w\n",
    "\n",
    "    def update_network_parameters(self, changes_to_w):\n",
    "        '''\n",
    "            Update network parameters according to update rule from\n",
    "            Stochastic Gradient Descent.\n",
    "\n",
    "            θ = θ - η * ∇J(x, y), \n",
    "                theta θ:            a network parameter (e.g. a weight w)\n",
    "                eta η:              the learning rate\n",
    "                gradient ∇J(x, y):  the gradient of the objective function,\n",
    "                                    i.e. the change for a specific theta θ\n",
    "        '''\n",
    "        \n",
    "        for key, value in changes_to_w.items():\n",
    "            self.params[key] -= self.l_rate * value\n",
    "\n",
    "    def compute_accuracy(self, x_val, y_val):\n",
    "        '''\n",
    "            This function does a forward pass of x, then checks if the indices\n",
    "            of the maximum value in the output equals the indices in the label\n",
    "            y. Then it sums over each prediction and calculates the accuracy.\n",
    "        '''\n",
    "        predictions = []\n",
    "\n",
    "        for x, y in zip(x_val, y_val):\n",
    "            output = self.forward_pass(x)\n",
    "            pred = np.argmax(output)\n",
    "            predictions.append(pred == np.argmax(y))\n",
    "        \n",
    "        return np.mean(predictions)\n",
    "    \n",
    "\n",
    "    def train(self, x_train, y_train, x_val, y_val):\n",
    "        start_time = time.time()\n",
    "        for iteration in range(self.epochs):\n",
    "            for x,y in zip(x_train, y_train):\n",
    "                output = self.forward_pass(x)\n",
    "                changes_to_w = self.backward_pass(y, output)\n",
    "                self.update_network_parameters(changes_to_w)\n",
    "            \n",
    "            accuracy = self.compute_accuracy(x_val, y_val)\n",
    "            print('Epoch: {0}, Time Spent: {1:.2f}s, Accuracy: {2:.2f}%'.format(\n",
    "                iteration+1, time.time() - start_time, accuracy * 100\n",
    "            ))\n",
    "            self.accuracy_over_epochs.append(accuracy)\n",
    "    \n",
    "    def train_arr(self, x_train, y_train, x_val, y_val):\n",
    "        x_train_cat = np.column_stack((x_train))\n",
    "        y_train_cat = y_train.T\n",
    "        start_time = time.time()\n",
    "        for iteration in range(self.epochs):\n",
    "            output = self.forward_pass(x_train_cat)\n",
    "            changes_to_w = self.backward_pass(y_train_cat, output)\n",
    "            #print(changes_to_w)\n",
    "            self.update_network_parameters(changes_to_w)\n",
    "            \n",
    "            val_accuracy = self.compute_accuracy(x_val, y_val)\n",
    "            training_accuracy = self.compute_accuracy(x_train, y_train)\n",
    "            print('Epoch: {0}, Time Spent: {1:.2f}s, Training Accuracy: {2:.2f}%, Valdiation Accuracy: {3:.2f}%'.format(\n",
    "                iteration+1, time.time() - start_time, 1000, val_accuracy * 100\n",
    "            ))\n",
    "            self.accuracy_over_epochs.append(training_accuracy)\n",
    "            "
   ]
  },
  {
   "cell_type": "code",
   "execution_count": 5,
   "metadata": {},
   "outputs": [
    {
     "name": "stdout",
     "output_type": "stream",
     "text": [
      "Epoch: 1, Time Spent: 7.31s, Training Accuracy: 1000.00%, Valdiation Accuracy: 9.86%\n",
      "Epoch: 2, Time Spent: 12.61s, Training Accuracy: 1000.00%, Valdiation Accuracy: 10.35%\n",
      "Epoch: 3, Time Spent: 17.76s, Training Accuracy: 1000.00%, Valdiation Accuracy: 9.24%\n",
      "Epoch: 4, Time Spent: 23.08s, Training Accuracy: 1000.00%, Valdiation Accuracy: 9.22%\n",
      "Epoch: 5, Time Spent: 28.07s, Training Accuracy: 1000.00%, Valdiation Accuracy: 11.48%\n",
      "Epoch: 6, Time Spent: 33.28s, Training Accuracy: 1000.00%, Valdiation Accuracy: 10.35%\n",
      "Epoch: 7, Time Spent: 38.33s, Training Accuracy: 1000.00%, Valdiation Accuracy: 9.68%\n",
      "Epoch: 8, Time Spent: 43.27s, Training Accuracy: 1000.00%, Valdiation Accuracy: 9.70%\n",
      "Epoch: 9, Time Spent: 48.31s, Training Accuracy: 1000.00%, Valdiation Accuracy: 10.57%\n",
      "Epoch: 10, Time Spent: 53.26s, Training Accuracy: 1000.00%, Valdiation Accuracy: 9.24%\n",
      "Epoch: 11, Time Spent: 58.35s, Training Accuracy: 1000.00%, Valdiation Accuracy: 10.35%\n",
      "Epoch: 12, Time Spent: 64.09s, Training Accuracy: 1000.00%, Valdiation Accuracy: 9.70%\n",
      "Epoch: 13, Time Spent: 69.68s, Training Accuracy: 1000.00%, Valdiation Accuracy: 11.48%\n",
      "Epoch: 14, Time Spent: 75.20s, Training Accuracy: 1000.00%, Valdiation Accuracy: 9.86%\n",
      "Epoch: 15, Time Spent: 80.58s, Training Accuracy: 1000.00%, Valdiation Accuracy: 10.30%\n",
      "Epoch: 16, Time Spent: 85.60s, Training Accuracy: 1000.00%, Valdiation Accuracy: 9.61%\n",
      "Epoch: 17, Time Spent: 91.15s, Training Accuracy: 1000.00%, Valdiation Accuracy: 9.61%\n",
      "Epoch: 18, Time Spent: 96.42s, Training Accuracy: 1000.00%, Valdiation Accuracy: 9.61%\n",
      "Epoch: 19, Time Spent: 102.17s, Training Accuracy: 1000.00%, Valdiation Accuracy: 9.92%\n",
      "Epoch: 20, Time Spent: 107.75s, Training Accuracy: 1000.00%, Valdiation Accuracy: 9.86%\n",
      "Epoch: 21, Time Spent: 113.28s, Training Accuracy: 1000.00%, Valdiation Accuracy: 9.86%\n",
      "Epoch: 22, Time Spent: 118.95s, Training Accuracy: 1000.00%, Valdiation Accuracy: 9.22%\n",
      "Epoch: 23, Time Spent: 124.94s, Training Accuracy: 1000.00%, Valdiation Accuracy: 9.86%\n",
      "Epoch: 24, Time Spent: 130.35s, Training Accuracy: 1000.00%, Valdiation Accuracy: 9.70%\n",
      "Epoch: 25, Time Spent: 136.67s, Training Accuracy: 1000.00%, Valdiation Accuracy: 9.22%\n",
      "Epoch: 26, Time Spent: 144.54s, Training Accuracy: 1000.00%, Valdiation Accuracy: 11.48%\n",
      "Epoch: 27, Time Spent: 151.01s, Training Accuracy: 1000.00%, Valdiation Accuracy: 11.48%\n",
      "Epoch: 28, Time Spent: 156.77s, Training Accuracy: 1000.00%, Valdiation Accuracy: 10.35%\n",
      "Epoch: 29, Time Spent: 162.46s, Training Accuracy: 1000.00%, Valdiation Accuracy: 10.57%\n",
      "Epoch: 30, Time Spent: 168.54s, Training Accuracy: 1000.00%, Valdiation Accuracy: 10.57%\n",
      "Epoch: 31, Time Spent: 174.83s, Training Accuracy: 1000.00%, Valdiation Accuracy: 10.30%\n",
      "Epoch: 32, Time Spent: 180.30s, Training Accuracy: 1000.00%, Valdiation Accuracy: 10.30%\n",
      "Epoch: 33, Time Spent: 186.26s, Training Accuracy: 1000.00%, Valdiation Accuracy: 9.24%\n",
      "Epoch: 34, Time Spent: 192.64s, Training Accuracy: 1000.00%, Valdiation Accuracy: 9.61%\n",
      "Epoch: 35, Time Spent: 199.51s, Training Accuracy: 1000.00%, Valdiation Accuracy: 10.57%\n",
      "Epoch: 36, Time Spent: 218.08s, Training Accuracy: 1000.00%, Valdiation Accuracy: 10.35%\n",
      "Epoch: 37, Time Spent: 224.61s, Training Accuracy: 1000.00%, Valdiation Accuracy: 10.35%\n",
      "Epoch: 38, Time Spent: 230.53s, Training Accuracy: 1000.00%, Valdiation Accuracy: 10.35%\n",
      "Epoch: 39, Time Spent: 236.33s, Training Accuracy: 1000.00%, Valdiation Accuracy: 10.35%\n",
      "Epoch: 40, Time Spent: 242.34s, Training Accuracy: 1000.00%, Valdiation Accuracy: 10.35%\n",
      "Epoch: 41, Time Spent: 248.30s, Training Accuracy: 1000.00%, Valdiation Accuracy: 10.35%\n",
      "Epoch: 42, Time Spent: 254.33s, Training Accuracy: 1000.00%, Valdiation Accuracy: 10.35%\n",
      "Epoch: 43, Time Spent: 260.25s, Training Accuracy: 1000.00%, Valdiation Accuracy: 10.35%\n",
      "Epoch: 44, Time Spent: 266.03s, Training Accuracy: 1000.00%, Valdiation Accuracy: 10.35%\n",
      "Epoch: 45, Time Spent: 271.35s, Training Accuracy: 1000.00%, Valdiation Accuracy: 10.35%\n",
      "Epoch: 46, Time Spent: 276.56s, Training Accuracy: 1000.00%, Valdiation Accuracy: 10.35%\n",
      "Epoch: 47, Time Spent: 281.97s, Training Accuracy: 1000.00%, Valdiation Accuracy: 10.35%\n",
      "Epoch: 48, Time Spent: 287.83s, Training Accuracy: 1000.00%, Valdiation Accuracy: 10.35%\n",
      "Epoch: 49, Time Spent: 295.39s, Training Accuracy: 1000.00%, Valdiation Accuracy: 10.35%\n",
      "Epoch: 50, Time Spent: 302.11s, Training Accuracy: 1000.00%, Valdiation Accuracy: 10.35%\n",
      "Epoch: 51, Time Spent: 308.18s, Training Accuracy: 1000.00%, Valdiation Accuracy: 10.35%\n",
      "Epoch: 52, Time Spent: 314.21s, Training Accuracy: 1000.00%, Valdiation Accuracy: 10.35%\n",
      "Epoch: 53, Time Spent: 319.62s, Training Accuracy: 1000.00%, Valdiation Accuracy: 10.35%\n",
      "Epoch: 54, Time Spent: 325.40s, Training Accuracy: 1000.00%, Valdiation Accuracy: 10.35%\n",
      "Epoch: 55, Time Spent: 331.41s, Training Accuracy: 1000.00%, Valdiation Accuracy: 10.35%\n",
      "Epoch: 56, Time Spent: 337.73s, Training Accuracy: 1000.00%, Valdiation Accuracy: 10.35%\n",
      "Epoch: 57, Time Spent: 344.61s, Training Accuracy: 1000.00%, Valdiation Accuracy: 10.35%\n",
      "Epoch: 58, Time Spent: 350.78s, Training Accuracy: 1000.00%, Valdiation Accuracy: 10.35%\n",
      "Epoch: 59, Time Spent: 356.82s, Training Accuracy: 1000.00%, Valdiation Accuracy: 10.35%\n",
      "Epoch: 60, Time Spent: 363.43s, Training Accuracy: 1000.00%, Valdiation Accuracy: 10.35%\n",
      "Epoch: 61, Time Spent: 369.27s, Training Accuracy: 1000.00%, Valdiation Accuracy: 10.35%\n",
      "Epoch: 62, Time Spent: 375.43s, Training Accuracy: 1000.00%, Valdiation Accuracy: 10.35%\n",
      "Epoch: 63, Time Spent: 381.97s, Training Accuracy: 1000.00%, Valdiation Accuracy: 10.35%\n",
      "Epoch: 64, Time Spent: 388.27s, Training Accuracy: 1000.00%, Valdiation Accuracy: 10.35%\n",
      "Epoch: 65, Time Spent: 394.02s, Training Accuracy: 1000.00%, Valdiation Accuracy: 10.35%\n",
      "Epoch: 66, Time Spent: 400.91s, Training Accuracy: 1000.00%, Valdiation Accuracy: 10.35%\n",
      "Epoch: 67, Time Spent: 406.92s, Training Accuracy: 1000.00%, Valdiation Accuracy: 10.35%\n",
      "Epoch: 68, Time Spent: 412.80s, Training Accuracy: 1000.00%, Valdiation Accuracy: 10.35%\n",
      "Epoch: 69, Time Spent: 418.97s, Training Accuracy: 1000.00%, Valdiation Accuracy: 10.35%\n",
      "Epoch: 70, Time Spent: 425.41s, Training Accuracy: 1000.00%, Valdiation Accuracy: 10.35%\n",
      "Epoch: 71, Time Spent: 431.58s, Training Accuracy: 1000.00%, Valdiation Accuracy: 10.35%\n",
      "Epoch: 72, Time Spent: 437.35s, Training Accuracy: 1000.00%, Valdiation Accuracy: 10.35%\n",
      "Epoch: 73, Time Spent: 443.35s, Training Accuracy: 1000.00%, Valdiation Accuracy: 10.35%\n",
      "Epoch: 74, Time Spent: 449.18s, Training Accuracy: 1000.00%, Valdiation Accuracy: 10.35%\n",
      "Epoch: 75, Time Spent: 454.91s, Training Accuracy: 1000.00%, Valdiation Accuracy: 10.35%\n",
      "Epoch: 76, Time Spent: 461.32s, Training Accuracy: 1000.00%, Valdiation Accuracy: 10.35%\n",
      "Epoch: 77, Time Spent: 467.09s, Training Accuracy: 1000.00%, Valdiation Accuracy: 10.35%\n",
      "Epoch: 78, Time Spent: 472.94s, Training Accuracy: 1000.00%, Valdiation Accuracy: 10.35%\n",
      "Epoch: 79, Time Spent: 478.53s, Training Accuracy: 1000.00%, Valdiation Accuracy: 10.35%\n",
      "Epoch: 80, Time Spent: 483.92s, Training Accuracy: 1000.00%, Valdiation Accuracy: 10.35%\n",
      "Epoch: 81, Time Spent: 489.61s, Training Accuracy: 1000.00%, Valdiation Accuracy: 10.35%\n",
      "Epoch: 82, Time Spent: 495.07s, Training Accuracy: 1000.00%, Valdiation Accuracy: 10.35%\n",
      "Epoch: 83, Time Spent: 500.52s, Training Accuracy: 1000.00%, Valdiation Accuracy: 10.35%\n",
      "Epoch: 84, Time Spent: 506.31s, Training Accuracy: 1000.00%, Valdiation Accuracy: 10.35%\n",
      "Epoch: 85, Time Spent: 512.22s, Training Accuracy: 1000.00%, Valdiation Accuracy: 10.35%\n",
      "Epoch: 86, Time Spent: 518.61s, Training Accuracy: 1000.00%, Valdiation Accuracy: 10.35%\n",
      "Epoch: 87, Time Spent: 524.56s, Training Accuracy: 1000.00%, Valdiation Accuracy: 10.35%\n",
      "Epoch: 88, Time Spent: 531.48s, Training Accuracy: 1000.00%, Valdiation Accuracy: 10.35%\n",
      "Epoch: 89, Time Spent: 537.86s, Training Accuracy: 1000.00%, Valdiation Accuracy: 10.35%\n",
      "Epoch: 90, Time Spent: 543.38s, Training Accuracy: 1000.00%, Valdiation Accuracy: 10.35%\n",
      "Epoch: 91, Time Spent: 548.91s, Training Accuracy: 1000.00%, Valdiation Accuracy: 10.35%\n",
      "Epoch: 92, Time Spent: 554.70s, Training Accuracy: 1000.00%, Valdiation Accuracy: 10.35%\n",
      "Epoch: 93, Time Spent: 560.31s, Training Accuracy: 1000.00%, Valdiation Accuracy: 10.35%\n",
      "Epoch: 94, Time Spent: 565.91s, Training Accuracy: 1000.00%, Valdiation Accuracy: 10.35%\n",
      "Epoch: 95, Time Spent: 571.20s, Training Accuracy: 1000.00%, Valdiation Accuracy: 10.35%\n",
      "Epoch: 96, Time Spent: 576.60s, Training Accuracy: 1000.00%, Valdiation Accuracy: 10.35%\n",
      "Epoch: 97, Time Spent: 582.97s, Training Accuracy: 1000.00%, Valdiation Accuracy: 10.35%\n",
      "Epoch: 98, Time Spent: 591.85s, Training Accuracy: 1000.00%, Valdiation Accuracy: 10.35%\n",
      "Epoch: 99, Time Spent: 599.77s, Training Accuracy: 1000.00%, Valdiation Accuracy: 10.35%\n",
      "Epoch: 100, Time Spent: 608.64s, Training Accuracy: 1000.00%, Valdiation Accuracy: 10.35%\n"
     ]
    }
   ],
   "source": [
    "dnn = DeepNeuralNetwork(sizes=[784, 128, 64, 10], epochs=100, l_rate=0.001)\n",
    "dnn.train_arr(x_train, y_train, x_val, y_val)"
   ]
  },
  {
   "cell_type": "code",
   "execution_count": 34,
   "metadata": {},
   "outputs": [
    {
     "name": "stdout",
     "output_type": "stream",
     "text": [
      "Epoch: 1, Time Spent: 30.09s, Accuracy: 20.50%\n",
      "Epoch: 2, Time Spent: 57.45s, Accuracy: 27.49%\n",
      "Epoch: 3, Time Spent: 90.08s, Accuracy: 34.39%\n",
      "Epoch: 4, Time Spent: 123.35s, Accuracy: 41.07%\n",
      "Epoch: 5, Time Spent: 151.11s, Accuracy: 46.43%\n",
      "Epoch: 6, Time Spent: 178.18s, Accuracy: 50.50%\n",
      "Epoch: 7, Time Spent: 208.80s, Accuracy: 52.81%\n",
      "Epoch: 8, Time Spent: 239.97s, Accuracy: 54.68%\n",
      "Epoch: 9, Time Spent: 270.92s, Accuracy: 56.56%\n",
      "Epoch: 10, Time Spent: 304.37s, Accuracy: 59.30%\n",
      "Epoch: 11, Time Spent: 341.60s, Accuracy: 62.79%\n",
      "Epoch: 12, Time Spent: 374.20s, Accuracy: 65.42%\n",
      "Epoch: 13, Time Spent: 411.01s, Accuracy: 67.19%\n",
      "Epoch: 14, Time Spent: 448.91s, Accuracy: 68.45%\n",
      "Epoch: 15, Time Spent: 480.82s, Accuracy: 69.23%\n",
      "Epoch: 16, Time Spent: 509.25s, Accuracy: 70.05%\n",
      "Epoch: 17, Time Spent: 545.47s, Accuracy: 70.56%\n",
      "Epoch: 18, Time Spent: 579.98s, Accuracy: 70.98%\n",
      "Epoch: 19, Time Spent: 612.24s, Accuracy: 71.30%\n",
      "Epoch: 20, Time Spent: 646.37s, Accuracy: 71.58%\n",
      "Epoch: 21, Time Spent: 681.81s, Accuracy: 71.93%\n",
      "Epoch: 22, Time Spent: 714.10s, Accuracy: 72.24%\n",
      "Epoch: 23, Time Spent: 749.62s, Accuracy: 72.49%\n",
      "Epoch: 24, Time Spent: 786.50s, Accuracy: 73.90%\n",
      "Epoch: 25, Time Spent: 815.86s, Accuracy: 76.83%\n",
      "Epoch: 26, Time Spent: 842.89s, Accuracy: 77.42%\n",
      "Epoch: 27, Time Spent: 872.10s, Accuracy: 77.93%\n",
      "Epoch: 28, Time Spent: 903.92s, Accuracy: 78.10%\n",
      "Epoch: 29, Time Spent: 932.80s, Accuracy: 78.37%\n",
      "Epoch: 30, Time Spent: 964.20s, Accuracy: 78.74%\n",
      "Epoch: 31, Time Spent: 995.21s, Accuracy: 78.96%\n",
      "Epoch: 32, Time Spent: 1026.87s, Accuracy: 79.25%\n",
      "Epoch: 33, Time Spent: 1057.80s, Accuracy: 79.42%\n",
      "Epoch: 34, Time Spent: 1092.80s, Accuracy: 79.65%\n",
      "Epoch: 35, Time Spent: 1127.12s, Accuracy: 79.81%\n",
      "Epoch: 36, Time Spent: 1156.75s, Accuracy: 80.03%\n",
      "Epoch: 37, Time Spent: 1184.25s, Accuracy: 80.29%\n",
      "Epoch: 38, Time Spent: 1213.95s, Accuracy: 80.41%\n",
      "Epoch: 39, Time Spent: 1246.18s, Accuracy: 80.56%\n",
      "Epoch: 40, Time Spent: 1275.47s, Accuracy: 80.65%\n",
      "Epoch: 41, Time Spent: 1304.33s, Accuracy: 80.79%\n",
      "Epoch: 42, Time Spent: 1336.24s, Accuracy: 80.88%\n",
      "Epoch: 43, Time Spent: 1368.96s, Accuracy: 81.01%\n",
      "Epoch: 44, Time Spent: 1399.35s, Accuracy: 81.12%\n",
      "Epoch: 45, Time Spent: 1428.17s, Accuracy: 81.15%\n",
      "Epoch: 46, Time Spent: 1460.29s, Accuracy: 81.20%\n",
      "Epoch: 47, Time Spent: 1491.91s, Accuracy: 81.25%\n",
      "Epoch: 48, Time Spent: 1519.79s, Accuracy: 81.30%\n",
      "Epoch: 49, Time Spent: 1549.97s, Accuracy: 81.35%\n",
      "Epoch: 50, Time Spent: 1583.52s, Accuracy: 81.43%\n",
      "Epoch: 51, Time Spent: 1612.28s, Accuracy: 81.51%\n",
      "Epoch: 52, Time Spent: 1640.63s, Accuracy: 81.51%\n",
      "Epoch: 53, Time Spent: 1673.65s, Accuracy: 81.56%\n",
      "Epoch: 54, Time Spent: 1710.26s, Accuracy: 81.57%\n",
      "Epoch: 55, Time Spent: 1743.77s, Accuracy: 81.60%\n",
      "Epoch: 56, Time Spent: 1788.14s, Accuracy: 81.65%\n",
      "Epoch: 57, Time Spent: 1817.69s, Accuracy: 81.69%\n",
      "Epoch: 58, Time Spent: 1848.13s, Accuracy: 81.73%\n",
      "Epoch: 59, Time Spent: 1879.64s, Accuracy: 81.77%\n",
      "Epoch: 60, Time Spent: 1914.80s, Accuracy: 81.77%\n",
      "Epoch: 61, Time Spent: 1943.57s, Accuracy: 81.81%\n",
      "Epoch: 62, Time Spent: 1971.60s, Accuracy: 81.84%\n",
      "Epoch: 63, Time Spent: 2003.89s, Accuracy: 81.90%\n",
      "Epoch: 64, Time Spent: 2033.34s, Accuracy: 81.94%\n",
      "Epoch: 65, Time Spent: 2061.75s, Accuracy: 81.96%\n",
      "Epoch: 66, Time Spent: 2091.08s, Accuracy: 81.98%\n",
      "Epoch: 67, Time Spent: 2127.10s, Accuracy: 82.04%\n",
      "Epoch: 68, Time Spent: 2156.37s, Accuracy: 82.07%\n",
      "Epoch: 69, Time Spent: 2186.65s, Accuracy: 82.10%\n",
      "Epoch: 70, Time Spent: 2219.75s, Accuracy: 82.10%\n",
      "Epoch: 71, Time Spent: 2253.06s, Accuracy: 82.10%\n",
      "Epoch: 72, Time Spent: 2280.97s, Accuracy: 82.13%\n",
      "Epoch: 73, Time Spent: 2311.19s, Accuracy: 82.11%\n",
      "Epoch: 74, Time Spent: 2344.93s, Accuracy: 82.22%\n",
      "Epoch: 75, Time Spent: 2375.06s, Accuracy: 82.97%\n",
      "Epoch: 76, Time Spent: 2403.45s, Accuracy: 84.33%\n",
      "Epoch: 77, Time Spent: 2434.36s, Accuracy: 85.63%\n",
      "Epoch: 78, Time Spent: 2467.10s, Accuracy: 86.84%\n",
      "Epoch: 79, Time Spent: 2495.42s, Accuracy: 87.83%\n",
      "Epoch: 80, Time Spent: 2524.13s, Accuracy: 88.39%\n",
      "Epoch: 81, Time Spent: 2556.90s, Accuracy: 88.57%\n",
      "Epoch: 82, Time Spent: 2588.48s, Accuracy: 88.70%\n",
      "Epoch: 83, Time Spent: 2616.17s, Accuracy: 88.79%\n",
      "Epoch: 84, Time Spent: 2645.88s, Accuracy: 88.87%\n",
      "Epoch: 85, Time Spent: 2678.37s, Accuracy: 88.99%\n",
      "Epoch: 86, Time Spent: 2708.56s, Accuracy: 89.00%\n",
      "Epoch: 87, Time Spent: 2737.51s, Accuracy: 89.01%\n",
      "Epoch: 88, Time Spent: 2769.65s, Accuracy: 89.03%\n",
      "Epoch: 89, Time Spent: 2802.19s, Accuracy: 89.10%\n",
      "Epoch: 90, Time Spent: 2830.88s, Accuracy: 89.17%\n",
      "Epoch: 91, Time Spent: 2860.23s, Accuracy: 89.25%\n",
      "Epoch: 92, Time Spent: 2892.96s, Accuracy: 89.30%\n",
      "Epoch: 93, Time Spent: 2924.95s, Accuracy: 89.32%\n",
      "Epoch: 94, Time Spent: 2953.49s, Accuracy: 89.39%\n",
      "Epoch: 95, Time Spent: 2983.23s, Accuracy: 89.43%\n",
      "Epoch: 96, Time Spent: 3017.40s, Accuracy: 89.50%\n",
      "Epoch: 97, Time Spent: 3047.91s, Accuracy: 89.54%\n",
      "Epoch: 98, Time Spent: 3076.27s, Accuracy: 89.58%\n",
      "Epoch: 99, Time Spent: 3108.01s, Accuracy: 89.62%\n",
      "Epoch: 100, Time Spent: 3140.94s, Accuracy: 89.66%\n"
     ]
    }
   ],
   "source": [
    "dnn = DeepNeuralNetwork(sizes=[784, 128, 64, 10], epochs=100)\n",
    "dnn.train(x_train, y_train, x_val, y_val)"
   ]
  },
  {
   "cell_type": "code",
   "execution_count": 36,
   "metadata": {},
   "outputs": [
    {
     "data": {
      "text/plain": [
       "Text(0.5, 1.0, 'Accuracy')"
      ]
     },
     "execution_count": 36,
     "metadata": {},
     "output_type": "execute_result"
    },
    {
     "data": {
      "image/png": "[encoded data removed]",
      "text/plain": [
       "<Figure size 864x576 with 1 Axes>"
      ]
     },
     "metadata": {
      "needs_background": "light"
     },
     "output_type": "display_data"
    }
   ],
   "source": [
    "import matplotlib.pyplot as plt\n",
    "plt.figure(figsize = (12,8))\n",
    "plt.plot(range(1, 101), dnn.accuracy_over_epochs)\n",
    "plt.xlabel(\"Iterations\")\n",
    "plt.ylabel(\"Accuracy\")\n",
    "# plt.ylim(80,100)\n",
    "plt.title(\"Accuracy\")\n",
    "#dnn.accuracy_over_epochs"
   ]
  },
  {
   "cell_type": "code",
   "execution_count": 5,
   "metadata": {},
   "outputs": [
    {
     "ename": "KeyboardInterrupt",
     "evalue": "",
     "output_type": "error",
     "traceback": [
      "\u001b[1;31m---------------------------------------------------------------------------\u001b[0m",
      "\u001b[1;31mKeyboardInterrupt\u001b[0m                         Traceback (most recent call last)",
      "\u001b[1;32m<ipython-input-5-3229af03f1aa>\u001b[0m in \u001b[0;36m<module>\u001b[1;34m\u001b[0m\n\u001b[0;32m      1\u001b[0m \u001b[0mdnn_my\u001b[0m \u001b[1;33m=\u001b[0m \u001b[0mDeepNeuralNetwork\u001b[0m\u001b[1;33m(\u001b[0m\u001b[0msizes\u001b[0m\u001b[1;33m=\u001b[0m\u001b[1;33m[\u001b[0m\u001b[1;36m784\u001b[0m\u001b[1;33m,\u001b[0m \u001b[1;36m500\u001b[0m\u001b[1;33m,\u001b[0m \u001b[1;36m500\u001b[0m\u001b[1;33m,\u001b[0m \u001b[1;36m10\u001b[0m\u001b[1;33m]\u001b[0m\u001b[1;33m,\u001b[0m \u001b[0mepochs\u001b[0m\u001b[1;33m=\u001b[0m\u001b[1;36m20\u001b[0m\u001b[1;33m)\u001b[0m\u001b[1;33m\u001b[0m\u001b[1;33m\u001b[0m\u001b[0m\n\u001b[1;32m----> 2\u001b[1;33m \u001b[0mdnn_my\u001b[0m\u001b[1;33m.\u001b[0m\u001b[0mtrain\u001b[0m\u001b[1;33m(\u001b[0m\u001b[0mx_train\u001b[0m\u001b[1;33m,\u001b[0m \u001b[0my_train\u001b[0m\u001b[1;33m,\u001b[0m \u001b[0mx_val\u001b[0m\u001b[1;33m,\u001b[0m \u001b[0my_val\u001b[0m\u001b[1;33m)\u001b[0m\u001b[1;33m\u001b[0m\u001b[1;33m\u001b[0m\u001b[0m\n\u001b[0m",
      "\u001b[1;32m<ipython-input-2-565d8b9f1b83>\u001b[0m in \u001b[0;36mtrain\u001b[1;34m(self, x_train, y_train, x_val, y_val)\u001b[0m\n\u001b[0;32m    119\u001b[0m             \u001b[1;32mfor\u001b[0m \u001b[0mx\u001b[0m\u001b[1;33m,\u001b[0m\u001b[0my\u001b[0m \u001b[1;32min\u001b[0m \u001b[0mzip\u001b[0m\u001b[1;33m(\u001b[0m\u001b[0mx_train\u001b[0m\u001b[1;33m,\u001b[0m \u001b[0my_train\u001b[0m\u001b[1;33m)\u001b[0m\u001b[1;33m:\u001b[0m\u001b[1;33m\u001b[0m\u001b[1;33m\u001b[0m\u001b[0m\n\u001b[0;32m    120\u001b[0m                 \u001b[0moutput\u001b[0m \u001b[1;33m=\u001b[0m \u001b[0mself\u001b[0m\u001b[1;33m.\u001b[0m\u001b[0mforward_pass\u001b[0m\u001b[1;33m(\u001b[0m\u001b[0mx\u001b[0m\u001b[1;33m)\u001b[0m\u001b[1;33m\u001b[0m\u001b[1;33m\u001b[0m\u001b[0m\n\u001b[1;32m--> 121\u001b[1;33m                 \u001b[0mchanges_to_w\u001b[0m \u001b[1;33m=\u001b[0m \u001b[0mself\u001b[0m\u001b[1;33m.\u001b[0m\u001b[0mbackward_pass\u001b[0m\u001b[1;33m(\u001b[0m\u001b[0my\u001b[0m\u001b[1;33m,\u001b[0m \u001b[0moutput\u001b[0m\u001b[1;33m)\u001b[0m\u001b[1;33m\u001b[0m\u001b[1;33m\u001b[0m\u001b[0m\n\u001b[0m\u001b[0;32m    122\u001b[0m                 \u001b[0mself\u001b[0m\u001b[1;33m.\u001b[0m\u001b[0mupdate_network_parameters\u001b[0m\u001b[1;33m(\u001b[0m\u001b[0mchanges_to_w\u001b[0m\u001b[1;33m)\u001b[0m\u001b[1;33m\u001b[0m\u001b[1;33m\u001b[0m\u001b[0m\n\u001b[0;32m    123\u001b[0m \u001b[1;33m\u001b[0m\u001b[0m\n",
      "\u001b[1;32m<ipython-input-2-565d8b9f1b83>\u001b[0m in \u001b[0;36mbackward_pass\u001b[1;34m(self, y_train, output)\u001b[0m\n\u001b[0;32m     79\u001b[0m \u001b[1;33m\u001b[0m\u001b[0m\n\u001b[0;32m     80\u001b[0m         \u001b[1;31m# Calculate W1 update\u001b[0m\u001b[1;33m\u001b[0m\u001b[1;33m\u001b[0m\u001b[1;33m\u001b[0m\u001b[0m\n\u001b[1;32m---> 81\u001b[1;33m         \u001b[0merror\u001b[0m \u001b[1;33m=\u001b[0m \u001b[0mnp\u001b[0m\u001b[1;33m.\u001b[0m\u001b[0mdot\u001b[0m\u001b[1;33m(\u001b[0m\u001b[0mparams\u001b[0m\u001b[1;33m[\u001b[0m\u001b[1;34m'W2'\u001b[0m\u001b[1;33m]\u001b[0m\u001b[1;33m.\u001b[0m\u001b[0mT\u001b[0m\u001b[1;33m,\u001b[0m \u001b[0merror\u001b[0m\u001b[1;33m)\u001b[0m \u001b[1;33m*\u001b[0m \u001b[0mself\u001b[0m\u001b[1;33m.\u001b[0m\u001b[0msigmoid\u001b[0m\u001b[1;33m(\u001b[0m\u001b[0mparams\u001b[0m\u001b[1;33m[\u001b[0m\u001b[1;34m'Z1'\u001b[0m\u001b[1;33m]\u001b[0m\u001b[1;33m,\u001b[0m \u001b[0mderivative\u001b[0m\u001b[1;33m=\u001b[0m\u001b[1;32mTrue\u001b[0m\u001b[1;33m)\u001b[0m\u001b[1;33m\u001b[0m\u001b[1;33m\u001b[0m\u001b[0m\n\u001b[0m\u001b[0;32m     82\u001b[0m         \u001b[0mchange_w\u001b[0m\u001b[1;33m[\u001b[0m\u001b[1;34m'W1'\u001b[0m\u001b[1;33m]\u001b[0m \u001b[1;33m=\u001b[0m \u001b[0mnp\u001b[0m\u001b[1;33m.\u001b[0m\u001b[0mouter\u001b[0m\u001b[1;33m(\u001b[0m\u001b[0merror\u001b[0m\u001b[1;33m,\u001b[0m \u001b[0mparams\u001b[0m\u001b[1;33m[\u001b[0m\u001b[1;34m'A0'\u001b[0m\u001b[1;33m]\u001b[0m\u001b[1;33m)\u001b[0m\u001b[1;33m\u001b[0m\u001b[1;33m\u001b[0m\u001b[0m\n\u001b[0;32m     83\u001b[0m \u001b[1;33m\u001b[0m\u001b[0m\n",
      "\u001b[1;31mKeyboardInterrupt\u001b[0m: "
     ]
    }
   ],
   "source": [
    "dnn_my = DeepNeuralNetwork(sizes=[784, 500, 500, 10], epochs=20)\n",
    "dnn_my.train(x_train, y_train, x_val, y_val)"
   ]
  },
  {
   "cell_type": "markdown",
   "metadata": {},
   "source": [
    "# Performing Weight perturbation with the above structure"
   ]
  },
  {
   "cell_type": "code",
   "execution_count": 1,
   "metadata": {},
   "outputs": [
    {
     "ename": "IndentationError",
     "evalue": "unexpected indent (<ipython-input-1-d5dae4cb5c07>, line 63)",
     "output_type": "error",
     "traceback": [
      "\u001b[1;36m  File \u001b[1;32m\"<ipython-input-1-d5dae4cb5c07>\"\u001b[1;36m, line \u001b[1;32m63\u001b[0m\n\u001b[1;33m    len_x, len_y = weight_array.shape\u001b[0m\n\u001b[1;37m    ^\u001b[0m\n\u001b[1;31mIndentationError\u001b[0m\u001b[1;31m:\u001b[0m unexpected indent\n"
     ]
    }
   ],
   "source": [
    "class DeepNeuralNetwork_withWeighPert():\n",
    "    def __init__(self, sizes, perturbation, epochs=10, l_rate=0.001):\n",
    "        self.sizes = sizes\n",
    "        self.epochs = epochs\n",
    "        self.perturbation = perturbation\n",
    "        self.l_rate = l_rate\n",
    "        self.accuracy_over_epochs = []\n",
    "\n",
    "        # we save all parameters in the neural network in this dictionary\n",
    "        self.params = self.initialization()\n",
    "\n",
    "    def sigmoid(self, x, derivative=False):\n",
    "        if derivative:\n",
    "            return (np.exp(-x))/((np.exp(-x)+1)**2)\n",
    "        return 1/(1 + np.exp(-x))\n",
    "\n",
    "    def softmax(self, x, derivative=False):\n",
    "        # Numerically stable with large exponentials\n",
    "        exps = np.exp(x - x.max())\n",
    "        if derivative:\n",
    "            return exps / np.sum(exps, axis=0) * (1 - exps / np.sum(exps, axis=0))\n",
    "        return exps / np.sum(exps, axis=0)\n",
    "\n",
    "    def initialization(self):\n",
    "        # number of nodes in each layer\n",
    "        input_layer=self.sizes[0]\n",
    "        hidden_1=self.sizes[1]\n",
    "        hidden_2=self.sizes[2]\n",
    "        output_layer=self.sizes[3]\n",
    "\n",
    "        params = {\n",
    "            'W1':np.random.randn(hidden_1, input_layer) * np.sqrt(1. / hidden_1),\n",
    "            'W2':np.random.randn(hidden_2, hidden_1) * np.sqrt(1. / hidden_2),\n",
    "            'W3':np.random.randn(output_layer, hidden_2) * np.sqrt(1. / output_layer)\n",
    "        }\n",
    "\n",
    "        return params\n",
    "\n",
    "    def forward_pass(self, x_train):\n",
    "        params = self.params\n",
    "\n",
    "        # input layer activations becomes sample\n",
    "        params['A0'] = x_train\n",
    "\n",
    "        # input layer to hidden layer 1\n",
    "        params['Z1'] = np.dot(params[\"W1\"], params['A0'])\n",
    "        params['A1'] = self.sigmoid(params['Z1'])\n",
    "\n",
    "        # hidden layer 1 to hidden layer 2\n",
    "        params['Z2'] = np.dot(params[\"W2\"], params['A1'])\n",
    "        params['A2'] = self.sigmoid(params['Z2'])\n",
    "\n",
    "        # hidden layer 2 to output layer\n",
    "        params['Z3'] = np.dot(params[\"W3\"], params['A2'])\n",
    "        params['A3'] = self.softmax(params['Z3'])\n",
    "\n",
    "        return params['A3']\n",
    "    \n",
    "    def perturbweightarray(self, weight_array):\n",
    "        '''\n",
    "            Perturbs each weight of the passed weight array and retur\n",
    "        '''\n",
    "            len_x, len_y = weight_array.shape\n",
    "            weight_array_copy = weight_array.copy()\n",
    "            for i in range(len_x):\n",
    "                for j in range(len_y):\n",
    "                    perturbed_\n",
    "\n",
    "\n",
    "    def backward_pass(self, y_train, output):\n",
    "        '''\n",
    "            This is the backpropagation algorithm, for calculating the updates\n",
    "            of the neural network's parameters.\n",
    "\n",
    "            Note: There is a stability issue that causes warnings. This is \n",
    "                  caused  by the dot and multiply operations on the huge arrays.\n",
    "                  \n",
    "                  RuntimeWarning: invalid value encountered in true_divide\n",
    "                  RuntimeWarning: overflow encountered in exp\n",
    "                  RuntimeWarning: overflow encountered in square\n",
    "        '''\n",
    "        params = self.params\n",
    "        change_w = {}\n",
    "\n",
    "        # Calculate W3 update\n",
    "        error = 2 * (output - y_train) / output.shape[0] * self.softmax(params['Z3'], derivative=True)\n",
    "        change_w['W3'] = np.outer(error, params['A2'])\n",
    "\n",
    "        # Calculate W2 update\n",
    "        error = np.dot(params['W3'].T, error) * self.sigmoid(params['Z2'], derivative=True)\n",
    "        change_w['W2'] = np.outer(error, params['A1'])\n",
    "\n",
    "        # Calculate W1 update\n",
    "        error = np.dot(params['W2'].T, error) * self.sigmoid(params['Z1'], derivative=True)\n",
    "        change_w['W1'] = np.outer(error, params['A0'])\n",
    "\n",
    "        return change_w\n",
    "\n",
    "    def update_network_parameters(self, changes_to_w):\n",
    "        '''\n",
    "            Update network parameters according to update rule from\n",
    "            Stochastic Gradient Descent.\n",
    "\n",
    "            θ = θ - η * ∇J(x, y), \n",
    "                theta θ:            a network parameter (e.g. a weight w)\n",
    "                eta η:              the learning rate\n",
    "                gradient ∇J(x, y):  the gradient of the objective function,\n",
    "                                    i.e. the change for a specific theta θ\n",
    "        '''\n",
    "        \n",
    "        for key, value in changes_to_w.items():\n",
    "            self.params[key] -= self.l_rate * value\n",
    "\n",
    "    def compute_accuracy(self, x_val, y_val):\n",
    "        '''\n",
    "            This function does a forward pass of x, then checks if the indices\n",
    "            of the maximum value in the output equals the indices in the label\n",
    "            y. Then it sums over each prediction and calculates the accuracy.\n",
    "        '''\n",
    "        predictions = []\n",
    "\n",
    "        for x, y in zip(x_val, y_val):\n",
    "            output = self.forward_pass(x)\n",
    "            pred = np.argmax(output)\n",
    "            predictions.append(pred == np.argmax(y))\n",
    "        \n",
    "        return np.mean(predictions)\n",
    "\n",
    "    def train(self, x_train, y_train, x_val, y_val):\n",
    "        start_time = time.time()\n",
    "        for iteration in range(self.epochs):\n",
    "            for x,y in zip(x_train, y_train):\n",
    "                output = self.forward_pass(x)\n",
    "                changes_to_w = self.backward_pass(y, output)\n",
    "                self.update_network_parameters(changes_to_w)\n",
    "            \n",
    "            accuracy = self.compute_accuracy(x_val, y_val)\n",
    "            print('Epoch: {0}, Time Spent: {1:.2f}s, Accuracy: {2:.2f}%'.format(\n",
    "                iteration+1, time.time() - start_time, accuracy * 100\n",
    "            ))\n",
    "            self.accuracy_over_epochs.append(accuracy)\n",
    "    \n",
    "    def train_arr(self, x_train, y_train, x_val, y_val):\n",
    "        x_train_cat = np.column_stack((x_train))\n",
    "        y_train_cat = y_train.T\n",
    "        start_time = time.time()\n",
    "        for iteration in range(self.epochs):\n",
    "            output = self.forward_pass(x_train_cat)\n",
    "            changes_to_w = self.backward_pass(y_train_cat, output)\n",
    "            self.update_network_parameters(changes_to_w)\n",
    "            \n",
    "            accuracy = self.compute_accuracy(x_val, y_val)\n",
    "            print('Epoch: {0}, Time Spent: {1:.2f}s, Accuracy: {2:.2f}%'.format(\n",
    "                iteration+1, time.time() - start_time, accuracy * 100\n",
    "            ))\n",
    "            self.accuracy_over_epochs.append(accuracy)\n",
    "            "
   ]
  },
  {
   "cell_type": "markdown",
   "metadata": {},
   "source": [
    "# Trial and error -*PLEASE IGNORE*-"
   ]
  },
  {
   "cell_type": "code",
   "execution_count": 4,
   "metadata": {},
   "outputs": [
    {
     "data": {
      "text/plain": [
       "array([[ 2,  3],\n",
       "       [24, 25]])"
      ]
     },
     "execution_count": 4,
     "metadata": {},
     "output_type": "execute_result"
    }
   ],
   "source": [
    "np.array([[1,2],[2,3]]) + np.array([1,22]).reshape((2,1))"
   ]
  },
  {
   "cell_type": "code",
   "execution_count": 5,
   "metadata": {},
   "outputs": [
    {
     "data": {
      "text/plain": [
       "array([[1, 2],\n",
       "       [2, 3]])"
      ]
     },
     "execution_count": 5,
     "metadata": {},
     "output_type": "execute_result"
    }
   ],
   "source": [
    "np.array([[1,2],[2,3]])"
   ]
  },
  {
   "cell_type": "code",
   "execution_count": 13,
   "metadata": {},
   "outputs": [],
   "source": [
    "def softmax(x, derivative=False):\n",
    "    # Numerically stable with large exponentials\n",
    "    exps = np.exp(x - x.max())\n",
    "    if derivative:\n",
    "        return exps / np.sum(exps, axis=0) * (1 - exps / np.sum(exps, axis=0))\n",
    "    return exps / np.sum(exps, axis=0)"
   ]
  },
  {
   "cell_type": "code",
   "execution_count": 7,
   "metadata": {},
   "outputs": [],
   "source": [
    "def sigmoid(x, derivative=False):\n",
    "        if derivative:\n",
    "            return (np.exp(-x))/((np.exp(-x)+1)**2)\n",
    "        return 1/(1 + np.exp(-x))"
   ]
  },
  {
   "cell_type": "code",
   "execution_count": 8,
   "metadata": {},
   "outputs": [
    {
     "data": {
      "text/plain": [
       "(784,)"
      ]
     },
     "execution_count": 8,
     "metadata": {},
     "output_type": "execute_result"
    }
   ],
   "source": [
    "x_train[0].shape"
   ]
  },
  {
   "cell_type": "code",
   "execution_count": 9,
   "metadata": {},
   "outputs": [],
   "source": [
    "W1 =np.random.randn(128, 784) \n",
    "W2 = np.random.randn(64, 128)\n",
    "W3 = np.random.randn(10, 64)"
   ]
  },
  {
   "cell_type": "code",
   "execution_count": 12,
   "metadata": {},
   "outputs": [],
   "source": [
    "xxx = np.column_stack((x_train))"
   ]
  },
  {
   "cell_type": "code",
   "execution_count": 20,
   "metadata": {},
   "outputs": [
    {
     "data": {
      "text/plain": [
       "62.976112"
      ]
     },
     "execution_count": 20,
     "metadata": {},
     "output_type": "execute_result"
    }
   ],
   "source": [
    "np.sum(softmax(xxx)[1, :])"
   ]
  },
  {
   "cell_type": "code",
   "execution_count": 11,
   "metadata": {},
   "outputs": [
    {
     "data": {
      "text/plain": [
       "(784, 59500)"
      ]
     },
     "execution_count": 11,
     "metadata": {},
     "output_type": "execute_result"
    }
   ],
   "source": [
    "xxx.shape"
   ]
  },
  {
   "cell_type": "code",
   "execution_count": null,
   "metadata": {},
   "outputs": [],
   "source": []
  },
  {
   "cell_type": "code",
   "execution_count": 12,
   "metadata": {},
   "outputs": [],
   "source": [
    "xxx1 = np.dot(W1, xxx)"
   ]
  },
  {
   "cell_type": "code",
   "execution_count": 13,
   "metadata": {},
   "outputs": [],
   "source": [
    "xxx1 = sigmoid(xxx1)"
   ]
  },
  {
   "cell_type": "code",
   "execution_count": 27,
   "metadata": {},
   "outputs": [
    {
     "data": {
      "text/plain": [
       "(128, 59500)"
      ]
     },
     "execution_count": 27,
     "metadata": {},
     "output_type": "execute_result"
    }
   ],
   "source": [
    "xxx1.shape"
   ]
  },
  {
   "cell_type": "code",
   "execution_count": 14,
   "metadata": {},
   "outputs": [
    {
     "data": {
      "text/plain": [
       "(128,)"
      ]
     },
     "execution_count": 14,
     "metadata": {},
     "output_type": "execute_result"
    }
   ],
   "source": [
    "xxx1[:,0].shape"
   ]
  },
  {
   "cell_type": "code",
   "execution_count": 15,
   "metadata": {},
   "outputs": [],
   "source": [
    "xxx2 = np.dot(W2, xxx1)"
   ]
  },
  {
   "cell_type": "code",
   "execution_count": 16,
   "metadata": {},
   "outputs": [],
   "source": [
    "xxx2 = sigmoid(xxx2)"
   ]
  },
  {
   "cell_type": "code",
   "execution_count": 17,
   "metadata": {},
   "outputs": [],
   "source": [
    "xxx3 = np.dot(W3, xxx2)"
   ]
  },
  {
   "cell_type": "code",
   "execution_count": 18,
   "metadata": {},
   "outputs": [],
   "source": [
    "op = softmax(xxx3)"
   ]
  },
  {
   "cell_type": "code",
   "execution_count": 19,
   "metadata": {},
   "outputs": [
    {
     "data": {
      "text/plain": [
       "(10, 59500)"
      ]
     },
     "execution_count": 19,
     "metadata": {},
     "output_type": "execute_result"
    }
   ],
   "source": [
    "op.shape"
   ]
  },
  {
   "cell_type": "code",
   "execution_count": 20,
   "metadata": {},
   "outputs": [
    {
     "data": {
      "text/plain": [
       "(10, 59500)"
      ]
     },
     "execution_count": 20,
     "metadata": {},
     "output_type": "execute_result"
    }
   ],
   "source": [
    "y_train.T.shape"
   ]
  },
  {
   "cell_type": "code",
   "execution_count": 21,
   "metadata": {},
   "outputs": [
    {
     "data": {
      "text/plain": [
       "(10, 59500)"
      ]
     },
     "execution_count": 21,
     "metadata": {},
     "output_type": "execute_result"
    }
   ],
   "source": [
    "(op-y_train.T).shape"
   ]
  },
  {
   "cell_type": "code",
   "execution_count": 22,
   "metadata": {},
   "outputs": [],
   "source": [
    "error = (op-y_train.T)"
   ]
  },
  {
   "cell_type": "code",
   "execution_count": 23,
   "metadata": {},
   "outputs": [
    {
     "data": {
      "text/plain": [
       "(10, 59500)"
      ]
     },
     "execution_count": 23,
     "metadata": {},
     "output_type": "execute_result"
    }
   ],
   "source": [
    "error.shape"
   ]
  },
  {
   "cell_type": "code",
   "execution_count": 26,
   "metadata": {},
   "outputs": [
    {
     "data": {
      "text/plain": [
       "array([[ 9.99997738e-01, -1.15259528e-05,  9.99999951e-01, ...,\n",
       "         9.99999454e-01, -1.78880452e-05, -9.12978830e-07],\n",
       "       [ 1.18155049e-10,  1.84406120e-10,  1.05692581e-11, ...,\n",
       "        -1.00000000e+00,  4.60615081e-10,  2.84104853e-12],\n",
       "       [ 7.15402525e-07,  4.35019231e-08,  1.98905361e-10, ...,\n",
       "         1.62681808e-09,  9.28006045e-09,  7.08661409e-10],\n",
       "       ...,\n",
       "       [ 4.19616005e-07,  8.71115051e-08,  2.94712388e-08, ...,\n",
       "         5.28984853e-07,  1.58859484e-05,  3.88861459e-07],\n",
       "       [ 2.34542289e-08,  1.07701098e-05, -9.99999984e-01, ...,\n",
       "         1.41512330e-08,  1.36489211e-06,  5.14609140e-07],\n",
       "       [ 5.54774886e-11,  2.20511950e-12,  2.01047579e-13, ...,\n",
       "         4.23790066e-12,  1.82545263e-11,  6.93741588e-14]])"
      ]
     },
     "execution_count": 26,
     "metadata": {},
     "output_type": "execute_result"
    }
   ],
   "source": [
    "error"
   ]
  },
  {
   "cell_type": "code",
   "execution_count": 25,
   "metadata": {},
   "outputs": [
    {
     "data": {
      "image/png": "[encoded data removed]",
      "text/plain": [
       "<Figure size 864x360 with 10 Axes>"
      ]
     },
     "metadata": {
      "needs_background": "light"
     },
     "output_type": "display_data"
    }
   ],
   "source": [
    "import matplotlib.pyplot as plt\n",
    "fig, axes = plt.subplots(2,5, figsize=(12,5))\n",
    "axes = axes.flatten()\n",
    "idx = np.random.randint(0,42000,size=10)\n",
    "for i in range(10):\n",
    "    axes[i].imshow(x_train[idx[i],:].reshape(28,28), cmap='gray')\n",
    "    axes[i].axis('off') # hide the axes ticks\n",
    "    #axes[i].set_title(str(int(y_train[idx[i]])), color= 'black', fontsize=25)\n",
    "plt.show()"
   ]
  },
  {
   "cell_type": "code",
   "execution_count": null,
   "metadata": {},
   "outputs": [],
   "source": []
  }
 ],
 "metadata": {
  "interpreter": {
   "hash": "d2735b6444468c516a41b960c6c64c2085ccf1a81bbe6050c33fcc7c53bc45de"
  },
  "kernelspec": {
   "display_name": "Python 3.7.4 ('base')",
   "language": "python",
   "name": "python3"
  },
  "language_info": {
   "codemirror_mode": {
    "name": "ipython",
    "version": 3
   },
   "file_extension": ".py",
   "mimetype": "text/x-python",
   "name": "python",
   "nbconvert_exporter": "python",
   "pygments_lexer": "ipython3",
   "version": "3.7.4"
  },
  "orig_nbformat": 4
 },
 "nbformat": 4,
 "nbformat_minor": 2
}
