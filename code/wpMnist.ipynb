{
 "cells": [
  {
   "cell_type": "markdown",
   "metadata": {},
   "source": [
    "# Loading the libraries"
   ]
  },
  {
   "cell_type": "code",
   "execution_count": 1,
   "metadata": {},
   "outputs": [],
   "source": [
    "import numpy as np\n",
    "import time\n",
    "import pandas as pd\n",
    "from sklearn.datasets import fetch_openml\n",
    "from sklearn.model_selection import train_test_split\n",
    "from sklearn.utils import shuffle\n",
    "import matplotlib.pyplot as plt\n",
    "from sklearn.metrics.pairwise import cosine_similarity"
   ]
  },
  {
   "cell_type": "markdown",
   "metadata": {},
   "source": [
    "# Preparing the dataset"
   ]
  },
  {
   "cell_type": "code",
   "execution_count": 2,
   "metadata": {},
   "outputs": [
    {
     "name": "stdout",
     "output_type": "stream",
     "text": [
      "(70000, 784) (70000,)\n"
     ]
    }
   ],
   "source": [
    "#fetch the mnist dataset\n",
    "x, y = fetch_openml('mnist_784', version=1, return_X_y=True, as_frame=False)\n",
    "print(x.shape,y.shape)"
   ]
  },
  {
   "cell_type": "code",
   "execution_count": 3,
   "metadata": {},
   "outputs": [],
   "source": [
    "#x_n = x.to_numpy()\n",
    "x_n = x\n",
    "#y_n = y.to_numpy()\n",
    "y_n = y"
   ]
  },
  {
   "cell_type": "code",
   "execution_count": 4,
   "metadata": {},
   "outputs": [
    {
     "name": "stdout",
     "output_type": "stream",
     "text": [
      "(63000, 784) (7000, 784) (63000,) (7000,)\n",
      "(784, 63000) (784, 7000)\n"
     ]
    }
   ],
   "source": [
    "y_n = y_n.astype('int') #convert output to integers 0-9\n",
    "x_norm = x_n/255.0 #normalise input data\n",
    "x_train, x_val, y_train, y_val = train_test_split(x_norm, y_n, test_size=0.1, random_state=42) #split the data into train and validation\n",
    "print(x_train.shape, x_val.shape, y_train.shape, y_val.shape)\n",
    "\n",
    "x_train = x_train.T #take the transpose of the training data m*784 -> 784*m\n",
    "x_val = x_val.T #take the transpose of the test data m*784 -> 784*m\n",
    "print(x_train.shape, x_val.shape)"
   ]
  },
  {
   "cell_type": "markdown",
   "metadata": {},
   "source": [
    "# Defining the functions(GENERAL)"
   ]
  },
  {
   "cell_type": "markdown",
   "metadata": {},
   "source": [
    "## Parameter initialization"
   ]
  },
  {
   "cell_type": "code",
   "execution_count": 5,
   "metadata": {},
   "outputs": [],
   "source": [
    "def params_init(seed=2):\n",
    "\n",
    "  np.random.seed(seed)\n",
    "  W1 = np.random.rand(20,784) - 0.5\n",
    "  b1 = np.random.rand(20,1) - 0.5\n",
    "  W2 = np.random.rand(10,20) - 0.5 \n",
    "  b2 = np.random.rand(10,1) - 0.5 \n",
    "  print(\"Params Initialised\")\n",
    "\n",
    "  return (W1, b1, W2, b2)"
   ]
  },
  {
   "cell_type": "markdown",
   "metadata": {},
   "source": [
    "## Other generic functions egs-loss"
   ]
  },
  {
   "cell_type": "code",
   "execution_count": 6,
   "metadata": {},
   "outputs": [],
   "source": [
    "\n",
    "def predictions(A):\n",
    "  #argmax returns the index of maximum value, we will feed the sigmoid output to this function \n",
    "  return np.argmax(A,0)\n",
    "\n",
    "\n",
    "def accuracy(A,Y):\n",
    "  #this will compare the predicted output to the ground truth\n",
    "  return np.sum(A == Y)/(Y.shape[0])*100"
   ]
  },
  {
   "cell_type": "code",
   "execution_count": 7,
   "metadata": {},
   "outputs": [],
   "source": [
    "def relu(x):\n",
    "   return np.maximum(x,0)\n",
    "\n",
    "\n",
    "def softmax(Z):\n",
    "  #return np.exp(Z) / np.sum(np.exp(Z),0)\n",
    "  Z = Z-np.max(Z, axis=0)\n",
    "  return np.exp(Z) / np.sum(np.exp(Z),0)\n",
    "\n",
    "\n",
    "def relu_d(x):\n",
    "  return x>0\n",
    "\n",
    "def one_hot_encoding(y):\n",
    "  shape = (y.shape[0], 10)\n",
    "  one_hot = np.zeros(shape)\n",
    "  rows = np.arange(y.size)\n",
    "  one_hot[rows, y] = 1\n",
    "  return one_hot.T\n",
    "\n",
    "def crossEntropy(y,y_pre):\n",
    "  loss=-np.sum(np.multiply(y, np.log(y_pre)), axis = 0)\n",
    "  return loss"
   ]
  },
  {
   "cell_type": "markdown",
   "metadata": {},
   "source": [
    "## Forward pass"
   ]
  },
  {
   "cell_type": "code",
   "execution_count": 8,
   "metadata": {},
   "outputs": [],
   "source": [
    "def forward(x_train, W1, b1, W2, b2):\n",
    "  #print(\"Entered FP\")\n",
    "  Z1 = np.matmul(W1,x_train) + b1 #W1 is 50*784, x_train is 748*m, Z1 is 50*m\n",
    "  A1 = relu(Z1)\n",
    "\n",
    "  Z2 = np.matmul(W2,A1) + b2\n",
    "  A2 = softmax(Z2)\n",
    "  \n",
    "\n",
    "  return Z1, A1, Z2, A2"
   ]
  },
  {
   "cell_type": "markdown",
   "metadata": {},
   "source": [
    "## Param update"
   ]
  },
  {
   "cell_type": "code",
   "execution_count": 9,
   "metadata": {},
   "outputs": [],
   "source": [
    "def param_update(W1, b1, W2, b2, dW1, db1, dW2, db2, lr):\n",
    "\n",
    "  #updates the parameters based on backpropogation\n",
    "\n",
    "  W1 = W1 - lr*dW1\n",
    "  b1 = b1 - lr*(db1.reshape(b1.shape))\n",
    "  W2 = W2 - lr*dW2\n",
    "  b2 = b2 - lr*(db2.reshape(b2.shape))\n",
    "\n",
    "\n",
    "  return W1, b1, W2, b2"
   ]
  },
  {
   "cell_type": "markdown",
   "metadata": {},
   "source": [
    "# Back propagation"
   ]
  },
  {
   "cell_type": "code",
   "execution_count": 10,
   "metadata": {},
   "outputs": [],
   "source": [
    "def backprop(Z1, A1, Z2, A2, W1, W2, X, y):\n",
    "  m = y.shape[0] #m is the number of training examples\n",
    "  Y = one_hot_encoding(y)\n",
    "\n",
    "  dZ2 = (A2 - Y)\n",
    "  \n",
    "  dW2 = 1/m*np.matmul(dZ2,A1.T)\n",
    "\n",
    "  db2 = 1/m*np.sum(dZ2, axis=1)\n",
    "\n",
    "  dZ1 = np.matmul(W2.T, dZ2)*relu_d(Z1) #W2 is 10*50, dZ2 = 10*m, dZ1 = 50*m\n",
    "\n",
    "  dW1 = 1/m*np.matmul(dZ1,X.T) #shape of dZ1 is 50*m, X is 784*m, dW1 = 50*784\n",
    "\n",
    "  db1 = 1/m*np.sum(dZ1, axis=1) #db1 is 50*1\n",
    "\n",
    "\n",
    "  return dW1, db1, dW2, db2"
   ]
  },
  {
   "cell_type": "code",
   "execution_count": 11,
   "metadata": {},
   "outputs": [],
   "source": [
    "def batch_grad_descent(X,Y,iter, lr, print_op=1):\n",
    "\n",
    "  # print(\"Entered Grad Descent\")\n",
    "  #performs minibatch grad descent for given iterations and learning rate\n",
    "  train_acc = []\n",
    "  val_acc = []\n",
    "  sum_weights = []\n",
    "  train_loss = []\n",
    "  val_loss = []\n",
    "\n",
    "  weightsDict = {}\n",
    "\n",
    "  mu = 1\n",
    "  sigma = 0.4\n",
    "\n",
    "  W1, b1, W2, b2 = params_init()\n",
    "  #print(W1)\n",
    "  #gaussian_W1, gaussian_b1, gaussian_W2, gaussian_b2, gaussian_W3, gaussian_b3, gaussian_W4, gaussian_b4, gaussian_W5, gaussian_b5 = Gaussian_init (mu, sigma)\n",
    "  for i in range(iter): #loop over \n",
    "    train_loss_score = 0\n",
    "    val_loss_score = 0\n",
    "\n",
    "\n",
    "\n",
    "\n",
    "    for j in range(100): #loop over batches\n",
    "      # print(\"Entered for loops in grad descent\")\n",
    "      #total training samples = 63000, batch size = 630\n",
    "      X1, Y1 = shuffle(X[:, j*630: (j+1)*630].T,Y[j*630: (j+1)*630]) #shuffle each batch\n",
    "      X1 = X1.T #take transpose to match the sizes\n",
    "\n",
    "      Z1, A1, Z2, A2 = forward(X1, W1, b1, W2, b2) \n",
    "\n",
    "      dW1, db1, dW2, db2 = backprop(Z1, A1, Z2, A2, W1, W2, X1, Y1)\n",
    "\n",
    "\n",
    "      W1, b1, W2, b2 = param_update(W1, b1, W2, b2,  dW1, db1, dW2, db2,  lr = lr)\n",
    "\n",
    "    if (i+1)%(print_op) == 0:\n",
    "      print(f'Iteration: {i + 1}')\n",
    "\n",
    "      #obtain training loss\n",
    "      _, _, _,  A2_train = forward(X, W1, b1, W2, b2)\n",
    "      #for i in range(0, Y.shape[0]):\n",
    "       # train_loss_score = train_loss_score + (-1*(np.log(A5_train[Y[i], i])))\n",
    "      #train_loss.append(train_loss_score)\n",
    "      #print(f'Train Loss: {train_loss_score}')\n",
    "\n",
    "      #obtain training accuracy\n",
    "      train_score = accuracy(predictions(A2_train), Y)\n",
    "      train_acc.append(train_score)\n",
    "      print(f'Train accuracy: {train_score}')\n",
    "\n",
    "      ##obtain validation loss\n",
    "      _, _, _,   A2_val = forward(x_val, W1, b1, W2, b2)\n",
    "      #for i in range(0, y_val.shape[0]):\n",
    "       # val_loss_score = val_loss_score + (-1*(np.log(A5_val[y_val[i], i]))) \n",
    "      #val_loss.append(val_loss_score)\n",
    "      #print(f'Validation Loss: {val_loss_score}')\n",
    "\n",
    "      ##obtain validation accuracy\n",
    "      val_score = accuracy(predictions(A2_val), y_val)\n",
    "      val_acc.append(val_score)\n",
    "      print(f'Val accuracy: {val_score}')\n",
    "\n",
    "      #obtain the sum of weights and append to the sum array\n",
    "      #sum_w = np.sum(abs(W1)) + np.sum(abs(W2)) + np.sum(abs(W3)) + np.sum(abs(W4)) + np.sum(abs(W5)) + np.sum(abs(b1)) + np.sum(abs(b2)) + np.sum(abs(b3))  + np.sum(abs(b4)) + np.sum(abs(b5))\n",
    "      #sum_weights.append(sum_w)\n",
    "      #print(f'Sum of weights: {sum_w}')\n",
    "\n",
    "  return W1, b1, W2, b2, train_acc, val_acc, train_loss, val_loss, sum_weights\n"
   ]
  },
  {
   "cell_type": "code",
   "execution_count": 18,
   "metadata": {},
   "outputs": [
    {
     "name": "stdout",
     "output_type": "stream",
     "text": [
      "Params Initialised\n",
      "Iteration: 1\n",
      "Train accuracy: 74.06666666666666\n",
      "Val accuracy: 74.04285714285714\n",
      "Iteration: 2\n",
      "Train accuracy: 81.43333333333334\n",
      "Val accuracy: 81.6\n",
      "Iteration: 3\n",
      "Train accuracy: 84.46825396825398\n",
      "Val accuracy: 84.62857142857143\n",
      "Iteration: 4\n",
      "Train accuracy: 86.27460317460317\n",
      "Val accuracy: 86.24285714285715\n",
      "Iteration: 5\n",
      "Train accuracy: 87.45396825396826\n",
      "Val accuracy: 87.2\n"
     ]
    }
   ],
   "source": [
    "_, _, _, _, train_accBP, val_accBP, train_loss, val_loss, sum_weights = batch_grad_descent(x_train,y_train,5, 0.1, print_op=1);"
   ]
  },
  {
   "cell_type": "markdown",
   "metadata": {},
   "source": [
    "# Weight perturbation"
   ]
  },
  {
   "cell_type": "code",
   "execution_count": 13,
   "metadata": {},
   "outputs": [],
   "source": [
    "def WP(W1, b1, W2, b2, pert, lossBeforePert, X, y):\n",
    "    m = y.shape[0] #m is the number of training examples\n",
    "    Y = one_hot_encoding(y)\n",
    "    dW1 = np.zeros_like(W1)\n",
    "    lossAfterPertW1 = np.zeros_like(W1)\n",
    "    for i in range(W1.shape[0]):\n",
    "        for j in range(W1.shape[1]):\n",
    "            W1pert = W1.copy()\n",
    "            W1pert[i, j] += pert\n",
    "            _, _, _, A2pert = forward(X, W1pert, b1, W2, b2)\n",
    "            lossAfterPertW1[i, j] = np.sum(crossEntropy(one_hot_encoding(y), A2pert))\n",
    "    dW1 = 1/m * (lossAfterPertW1-lossBeforePert)/pert\n",
    "\n",
    "\n",
    "    db1 = np.zeros_like(b1)\n",
    "    lossAfterPertb1 = np.zeros_like(b1)\n",
    "    for i in range(b1.shape[0]):\n",
    "        b1pert = b1.copy()\n",
    "        b1pert[i]+=pert\n",
    "        _, _, _, A2pert = forward(X, W1, b1pert, W2, b2)\n",
    "        lossAfterPertb1[i] = np.sum(crossEntropy(one_hot_encoding(y), A2pert))\n",
    "    db1 = 1/m * (lossAfterPertb1-lossBeforePert)/pert\n",
    "\n",
    "    \n",
    "    dW2 = np.zeros_like(W2)\n",
    "    lossAfterPertW2 = np.zeros_like(W2)\n",
    "    for i in range(W2.shape[0]):\n",
    "        for j in range(W2.shape[1]):\n",
    "            W2pert = W2.copy()\n",
    "            W2pert[i, j] += pert\n",
    "            _, _, _, A2pert = forward(X, W1, b1, W2pert, b2)\n",
    "            lossAfterPertW2[i, j] = np.sum(crossEntropy(one_hot_encoding(y), A2pert))\n",
    "    dW2 = 1/m * (lossAfterPertW2-lossBeforePert)/pert\n",
    "\n",
    "\n",
    "    db2 = np.zeros_like(b2)\n",
    "    lossAfterPertb2 = np.zeros_like(b2)\n",
    "    for i in range(b2.shape[0]):\n",
    "        b2pert = b2.copy()\n",
    "        b2pert[i]+=pert\n",
    "        _, _, _, A2pert = forward(X, W1, b1, W2, b2pert)\n",
    "        lossAfterPertb2[i] = np.sum(crossEntropy(one_hot_encoding(y), A2pert))\n",
    "    db2 = 1/m * (lossAfterPertb2-lossBeforePert)/pert\n",
    "\n",
    "    return dW1, db1, dW2, db2\n",
    "            "
   ]
  },
  {
   "cell_type": "code",
   "execution_count": 14,
   "metadata": {},
   "outputs": [],
   "source": [
    "def batch_grad_descentWP(X,Y,iter, lr, pert, print_op=1):\n",
    "\n",
    "  # print(\"Entered Grad Descent\")\n",
    "  #performs minibatch grad descent for given iterations and learning rate\n",
    "  train_acc = []\n",
    "  val_acc = []\n",
    "  sum_weights = []\n",
    "  train_loss = []\n",
    "  val_loss = []\n",
    "\n",
    "  weightsDict = {}\n",
    "\n",
    "  mu = 1\n",
    "  sigma = 0.4\n",
    "\n",
    "  W1, b1, W2, b2 = params_init()\n",
    "  #print(W1)\n",
    "  #gaussian_W1, gaussian_b1, gaussian_W2, gaussian_b2, gaussian_W3, gaussian_b3, gaussian_W4, gaussian_b4, gaussian_W5, gaussian_b5 = Gaussian_init (mu, sigma)\n",
    "  for i in range(iter): #loop over \n",
    "    train_loss_score = 0\n",
    "    val_loss_score = 0\n",
    "\n",
    "\n",
    "\n",
    "\n",
    "    for j in range(100): #loop over batches\n",
    "      # print(\"Entered for loops in grad descent\")\n",
    "      #total training samples = 63000, batch size = 630\n",
    "      X1, Y1 = shuffle(X[:, j*630: (j+1)*630].T,Y[j*630: (j+1)*630]) #shuffle each batch\n",
    "      X1 = X1.T #take transpose to match the sizes\n",
    "\n",
    "      Z1, A1, Z2, A2 = forward(X1, W1, b1, W2, b2) \n",
    "      print(f\"BP Iter {i+1} -> sub iter {j} : {accuracy(predictions(A2), Y1)}\", end = \"\\r\", flush = True)\n",
    "\n",
    "      #dW1, db1, dW2, db2 = backprop(Z1, A1, Z2, A2, W1, W2, X1, Y1)\n",
    "      loss = np.sum(crossEntropy(one_hot_encoding(Y1), A2))\n",
    "      dW1, db1, dW2, db2 = WP(W1, b1, W2, b2, pert=pert, lossBeforePert=loss, X=X1, y=Y1)\n",
    "\n",
    "\n",
    "      W1, b1, W2, b2 = param_update(W1, b1, W2, b2,  dW1, db1, dW2, db2,  lr = lr)\n",
    "\n",
    "\n",
    "    if (i+1)%(print_op) == 0:\n",
    "      print(f'Iteration: {i + 1}')\n",
    "\n",
    "      #obtain training loss\n",
    "      _, _, _,  A2_train = forward(X, W1, b1, W2, b2)\n",
    "      #for i in range(0, Y.shape[0]):\n",
    "       # train_loss_score = train_loss_score + (-1*(np.log(A5_train[Y[i], i])))\n",
    "      #train_loss.append(train_loss_score)\n",
    "      #print(f'Train Loss: {train_loss_score}')\n",
    "\n",
    "      #obtain training accuracy\n",
    "      train_score = accuracy(predictions(A2_train), Y)\n",
    "      train_acc.append(train_score)\n",
    "      print(f'Train accuracy: {train_score}')\n",
    "\n",
    "      ##obtain validation loss\n",
    "      _, _, _,   A2_val = forward(x_val, W1, b1, W2, b2)\n",
    "      #for i in range(0, y_val.shape[0]):\n",
    "       # val_loss_score = val_loss_score + (-1*(np.log(A5_val[y_val[i], i]))) \n",
    "      #val_loss.append(val_loss_score)\n",
    "      #print(f'Validation Loss: {val_loss_score}')\n",
    "\n",
    "      ##obtain validation accuracy\n",
    "      val_score = accuracy(predictions(A2_val), y_val)\n",
    "      val_acc.append(val_score)\n",
    "      print(f'Val accuracy: {val_score}')\n",
    "\n",
    "      #obtain the sum of weights and append to the sum array\n",
    "      #sum_w = np.sum(abs(W1)) + np.sum(abs(W2)) + np.sum(abs(W3)) + np.sum(abs(W4)) + np.sum(abs(W5)) + np.sum(abs(b1)) + np.sum(abs(b2)) + np.sum(abs(b3))  + np.sum(abs(b4)) + np.sum(abs(b5))\n",
    "      #sum_weights.append(sum_w)\n",
    "      #print(f'Sum of weights: {sum_w}')\n",
    "\n",
    "  return W1, b1, W2, b2, train_acc, val_acc, train_loss, val_loss, sum_weights\n"
   ]
  },
  {
   "cell_type": "code",
   "execution_count": 17,
   "metadata": {},
   "outputs": [
    {
     "name": "stdout",
     "output_type": "stream",
     "text": [
      "Params Initialised\n",
      "Iteration: 1 sub iter 99 : 74.285714285714295\n",
      "Train accuracy: 73.65396825396824\n",
      "Val accuracy: 73.55714285714285\n",
      "Iteration: 2 sub iter 99 : 81.74603174603175\n",
      "Train accuracy: 80.5063492063492\n",
      "Val accuracy: 80.54285714285714\n",
      "Iteration: 3 sub iter 99 : 84.76190476190476\n",
      "Train accuracy: 83.32063492063492\n",
      "Val accuracy: 83.35714285714285\n",
      "Iteration: 4 sub iter 99 : 86.03174603174604\n",
      "Train accuracy: 84.85079365079365\n",
      "Val accuracy: 84.55714285714285\n",
      "Iteration: 5 sub iter 99 : 86.66666666666667\n",
      "Train accuracy: 85.74126984126984\n",
      "Val accuracy: 85.5\n",
      "Params Initialised\n",
      "Iteration: 1 sub iter 99 : 75.079365079365085\n",
      "Train accuracy: 74.01269841269841\n",
      "Val accuracy: 74.0\n",
      "Iteration: 2 sub iter 99 : 80.95238095238095\n",
      "Train accuracy: 81.35396825396826\n",
      "Val accuracy: 81.5\n",
      "Iteration: 3 sub iter 99 : 84.76190476190476\n",
      "Train accuracy: 84.42222222222222\n",
      "Val accuracy: 84.42857142857143\n",
      "Iteration: 4 sub iter 99 : 86.50793650793657\n",
      "Train accuracy: 86.2\n",
      "Val accuracy: 86.1\n",
      "Iteration: 5 sub iter 99 : 87.30158730158737\n",
      "Train accuracy: 87.36825396825397\n",
      "Val accuracy: 87.31428571428572\n",
      "Params Initialised\n",
      "Iteration: 1 sub iter 99 : 74.920634920634925\n",
      "Train accuracy: 74.04761904761905\n",
      "Val accuracy: 74.07142857142858\n",
      "Iteration: 2 sub iter 99 : 81.11111111111111\n",
      "Train accuracy: 81.42857142857143\n",
      "Val accuracy: 81.6\n",
      "Iteration: 3 sub iter 99 : 84.76190476190476\n",
      "Train accuracy: 84.47619047619047\n",
      "Val accuracy: 84.57142857142857\n",
      "Iteration: 4 sub iter 99 : 86.82539682539682\n",
      "Train accuracy: 86.26666666666667\n",
      "Val accuracy: 86.24285714285715\n",
      "Iteration: 5 sub iter 99 : 87.30158730158731\n",
      "Train accuracy: 87.43174603174603\n",
      "Val accuracy: 87.17142857142856\n",
      "Params Initialised\n",
      "Iteration: 1 sub iter 99 : 74.920634920634925\n",
      "Train accuracy: 74.06666666666666\n",
      "Val accuracy: 74.04285714285714\n",
      "Iteration: 2 sub iter 99 : 81.11111111111111\n",
      "Train accuracy: 81.43333333333334\n",
      "Val accuracy: 81.6\n",
      "Iteration: 3 sub iter 99 : 84.44444444444444\n",
      "Train accuracy: 84.46984126984127\n",
      "Val accuracy: 84.62857142857143\n",
      "Iteration: 4 sub iter 99 : 86.82539682539682\n",
      "Train accuracy: 86.26825396825397\n",
      "Val accuracy: 86.24285714285715\n",
      "Iteration: 5 sub iter 99 : 87.30158730158731\n",
      "Train accuracy: 87.45555555555555\n",
      "Val accuracy: 87.18571428571428\n"
     ]
    }
   ],
   "source": [
    "pertList = [0.1, 0.01, 0.001, 0.0001]\n",
    "trainAccWP = []\n",
    "valAccWP = []\n",
    "for pert in pertList:\n",
    "    _, _, _, _, train_acc, val_acc, train_loss, val_loss, sum_weights = batch_grad_descentWP(x_train,y_train,5, 0.1, pert = pert, print_op=1);\n",
    "    trainAccWP.append(train_acc)\n",
    "    valAccWP.append(val_acc)"
   ]
  },
  {
   "cell_type": "code",
   "execution_count": 34,
   "metadata": {},
   "outputs": [
    {
     "data": {
      "text/plain": [
       "Text(0.5, 1.0, 'Accuracy vs epochs for different techiques')"
      ]
     },
     "execution_count": 34,
     "metadata": {},
     "output_type": "execute_result"
    },
    {
     "data": {
      "image/png": "[encoded data removed]",
      "text/plain": [
       "<Figure size 1080x576 with 1 Axes>"
      ]
     },
     "metadata": {
      "needs_background": "light"
     },
     "output_type": "display_data"
    }
   ],
   "source": [
    "plt.figure(figsize=(15, 8))\n",
    "format = ['r.', 'gx', 'yd', 'c^']\n",
    "col = ['r', 'g', 'y', 'c']\n",
    "leg = []\n",
    "epochList = [i for i in range(5)]\n",
    "for _ in range(len(pertList)):\n",
    "    plt.plot(epochList, trainAccWP[_], format[_])\n",
    "    leg.append(f\"Weigth perturbation for {pertList[_]}\")\n",
    "plt.plot(epochList, train_accBP, 'kh')\n",
    "leg.append(\"Baseline back propagation\")\n",
    "for _ in range(len(pertList)):\n",
    "    plt.plot(epochList, trainAccWP[_], col[_], linewidth=0.2, alpha = 0.5)\n",
    "plt.plot(epochList, train_accBP, 'k', linewidth=0.2, alpha = 0.5)\n",
    "plt.legend(leg)\n",
    "plt.xlim(left = -0.1)\n",
    "plt.xlabel(\"Epochs ->\", size = 15)\n",
    "plt.ylabel(\"Accuracy %\", size = 15)\n",
    "plt.title(\"Accuracy vs epochs for different techiques\")"
   ]
  },
  {
   "cell_type": "code",
   "execution_count": 37,
   "metadata": {},
   "outputs": [
    {
     "data": {
      "text/plain": [
       "Text(0.5, 1.0, 'Accuracy vs epochs for different techiques')"
      ]
     },
     "execution_count": 37,
     "metadata": {},
     "output_type": "execute_result"
    },
    {
     "data": {
      "image/png": "[encoded data removed]",
      "text/plain": [
       "<Figure size 1080x576 with 1 Axes>"
      ]
     },
     "metadata": {
      "needs_background": "light"
     },
     "output_type": "display_data"
    }
   ],
   "source": [
    "plt.figure(figsize=(15, 8))\n",
    "format = ['r.', 'gx', 'yd', 'c^']\n",
    "col = ['r', 'g', 'y', 'c']\n",
    "leg = []\n",
    "epochList = [i for i in range(5)]\n",
    "for _ in range(1, len(pertList)):\n",
    "    plt.plot(epochList[3:], trainAccWP[_][3:], format[_])\n",
    "    leg.append(f\"Weigth perturbation for {pertList[_]}\")\n",
    "plt.plot(epochList[3:], train_accBP[3:], 'kh')\n",
    "leg.append(\"Baseline back propagation\")\n",
    "for _ in range(1, len(pertList)):\n",
    "    plt.plot(epochList[3:], trainAccWP[_][3:], col[_], linewidth=0.5, alpha = 0.5)\n",
    "plt.plot(epochList[3:], train_accBP[3:], 'k', linewidth=0.5, alpha = 0.5)\n",
    "plt.legend(leg)\n",
    "plt.xlim(left = 2.9)\n",
    "plt.xlabel(\"Epochs ->\", size = 15)\n",
    "plt.ylabel(\"Accuracy %\", size = 15)\n",
    "plt.title(\"Accuracy vs epochs for different techiques\")"
   ]
  },
  {
   "cell_type": "code",
   "execution_count": null,
   "metadata": {},
   "outputs": [],
   "source": []
  }
 ],
 "metadata": {
  "kernelspec": {
   "display_name": "Python 3.10.5 64-bit",
   "language": "python",
   "name": "python3"
  },
  "language_info": {
   "codemirror_mode": {
    "name": "ipython",
    "version": 3
   },
   "file_extension": ".py",
   "mimetype": "text/x-python",
   "name": "python",
   "nbconvert_exporter": "python",
   "pygments_lexer": "ipython3",
   "version": "3.10.5"
  },
  "orig_nbformat": 4,
  "vscode": {
   "interpreter": {
    "hash": "26de051ba29f2982a8de78e945f0abaf191376122a1563185a90213a26c5da77"
   }
  }
 },
 "nbformat": 4,
 "nbformat_minor": 2
}
